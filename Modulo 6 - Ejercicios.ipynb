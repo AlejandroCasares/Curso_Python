{
 "cells": [
  {
   "cell_type": "markdown",
   "metadata": {},
   "source": [
    "#Modulo 6 - Ejercicios"
   ]
  },
  {
   "cell_type": "markdown",
   "metadata": {},
   "source": [
    "## Enunciado 1\n",
    "\n",
    "Crear una variable \"cadena\" que contiene el texto \"Esto es un texto de ejemplo\"\n",
    "Según la posición de cada letra en la cadena, calcula que valores (x,y) hay que poner para seleccionar la palabra \"texto\" --> cadena[x,y] = \"texto\""
   ]
  },
  {
   "cell_type": "code",
   "execution_count": 1,
   "metadata": {},
   "outputs": [],
   "source": [
    "cadena = \"Esto es un texto de ejemplo\""
   ]
  },
  {
   "cell_type": "code",
   "execution_count": 5,
   "metadata": {},
   "outputs": [
    {
     "data": {
      "text/plain": [
       "11"
      ]
     },
     "execution_count": 5,
     "metadata": {},
     "output_type": "execute_result"
    }
   ],
   "source": [
    "cadena.index(\"texto\")"
   ]
  },
  {
   "cell_type": "code",
   "execution_count": 9,
   "metadata": {},
   "outputs": [
    {
     "data": {
      "text/plain": [
       "5"
      ]
     },
     "execution_count": 9,
     "metadata": {},
     "output_type": "execute_result"
    }
   ],
   "source": [
    "len(\"texto\")"
   ]
  },
  {
   "cell_type": "code",
   "execution_count": 10,
   "metadata": {},
   "outputs": [
    {
     "data": {
      "text/plain": [
       "16"
      ]
     },
     "execution_count": 10,
     "metadata": {},
     "output_type": "execute_result"
    }
   ],
   "source": [
    "11+5"
   ]
  },
  {
   "cell_type": "code",
   "execution_count": 11,
   "metadata": {},
   "outputs": [
    {
     "data": {
      "text/plain": [
       "'texto'"
      ]
     },
     "execution_count": 11,
     "metadata": {},
     "output_type": "execute_result"
    }
   ],
   "source": [
    "cadena[11:16]"
   ]
  },
  {
   "cell_type": "markdown",
   "metadata": {},
   "source": [
    "## Enunciado 2\n",
    "\n",
    "1.- Crear una variable \"cadena\" que contienga el texto \"Esto es un texto de ejemplo\"\n",
    "\n",
    "2.- Crear una variable \"longitud\" que contenga la longitud de la variable cadena\n",
    "\n",
    "3.- Crear una variable \"strlongitud\" que tenga el valor de la longitud pero convertida a cadena de caracteres\n",
    "\n",
    "4.- Crear una variable \"mayusculas\" que contiene la variable cadena en mayusculas\n",
    "\n",
    "5.- Crear una variable \"resultado\" que concatene \"mayusculas\" con el texto \"tiene longitud de \" y \"strlongitud\""
   ]
  },
  {
   "cell_type": "code",
   "execution_count": 12,
   "metadata": {},
   "outputs": [],
   "source": [
    "cadena = \"Esto es un texto de ejemplo\""
   ]
  },
  {
   "cell_type": "code",
   "execution_count": 13,
   "metadata": {},
   "outputs": [],
   "source": [
    "longitud = len(cadena)"
   ]
  },
  {
   "cell_type": "code",
   "execution_count": 14,
   "metadata": {},
   "outputs": [],
   "source": [
    "strlongitud = str(longitud)"
   ]
  },
  {
   "cell_type": "code",
   "execution_count": 15,
   "metadata": {},
   "outputs": [],
   "source": [
    "mayusculas = cadena.upper()"
   ]
  },
  {
   "cell_type": "code",
   "execution_count": 19,
   "metadata": {},
   "outputs": [],
   "source": [
    "resultado = mayusculas + \" tiene longitud de \" + strlongitud"
   ]
  },
  {
   "cell_type": "code",
   "execution_count": 20,
   "metadata": {},
   "outputs": [
    {
     "data": {
      "text/plain": [
       "'ESTO ES UN TEXTO DE EJEMPLO tiene longitud de 27'"
      ]
     },
     "execution_count": 20,
     "metadata": {},
     "output_type": "execute_result"
    }
   ],
   "source": [
    "resultado"
   ]
  },
  {
   "cell_type": "code",
   "execution_count": null,
   "metadata": {},
   "outputs": [],
   "source": []
  },
  {
   "cell_type": "markdown",
   "metadata": {},
   "source": [
    "## Enunciado 3\n",
    "\n",
    "Crear una variable \"numero1\" que contene el valor 5\n",
    "\n",
    "\n",
    "Crear una variable \"numero2\" que contene el valor 8\n",
    "\n",
    "Crear una variable \"suma\" que contene el valor de la suma de los números anteriores\n",
    "\n",
    "Imprimir por pantalla el resultado, utilizando la función \"print\""
   ]
  },
  {
   "cell_type": "code",
   "execution_count": 21,
   "metadata": {},
   "outputs": [],
   "source": [
    "numero1 = 5"
   ]
  },
  {
   "cell_type": "code",
   "execution_count": 22,
   "metadata": {},
   "outputs": [],
   "source": [
    "numero2 = 8"
   ]
  },
  {
   "cell_type": "code",
   "execution_count": 23,
   "metadata": {},
   "outputs": [],
   "source": [
    "suma = numero1 + numero2"
   ]
  },
  {
   "cell_type": "code",
   "execution_count": 24,
   "metadata": {},
   "outputs": [
    {
     "name": "stdout",
     "output_type": "stream",
     "text": [
      "El resultado de la suma de 5 y 8 es: 13\n"
     ]
    }
   ],
   "source": [
    "print(f\"El resultado de la suma de {numero1} y {numero2} es: {suma}\")"
   ]
  },
  {
   "cell_type": "code",
   "execution_count": null,
   "metadata": {},
   "outputs": [],
   "source": []
  },
  {
   "cell_type": "markdown",
   "metadata": {},
   "source": [
    "## Enunciado 4\n",
    "\n",
    "1.- Imprimir por pantalla el texto \"Introduce el primer número\"\n",
    "\n",
    "\n",
    "2.- Crear la variable \"dato1\" con el primer valor introducido\n",
    "\n",
    "3.- Imprime por pantalla el texto \"Introduce el segundo número\"\n",
    "\n",
    "4.- Crear la variable \"dato2\" con el segundo valor introducido\n",
    "\n",
    "5.- Convertir la variable \"dato1\" en una variable númerica denominada \"numero1\"\n",
    "\n",
    "6.- Convertir la variable \"dato2\" en una variable númerica denominada \"numero2\"\n",
    "\n",
    "7.- Crear la variable \"suma\" con la suma de numero1 y numero2\n",
    "\n",
    "8.- Convertir la variable \"suma\" en una variable de texto denominada strSuma\n",
    "\n",
    "9.- Crear la variable \"resultado\" como la concatenaciuón de \"La suma es \" y \"strSuma\"\n",
    "\n",
    "10.- Imprimir el valor de \"resultado\"\n"
   ]
  },
  {
   "cell_type": "code",
   "execution_count": 29,
   "metadata": {},
   "outputs": [
    {
     "name": "stdout",
     "output_type": "stream",
     "text": [
      "Introduce el primer número:\n",
      "10\n",
      "Introduce el segundo número:\n",
      "8\n",
      "La suma es 18\n"
     ]
    }
   ],
   "source": [
    "print(\"Introduce el primer número:\") \n",
    "dato1 = input()\n",
    "print(\"Introduce el segundo número:\") \n",
    "dato2 = input()\n",
    "numero1 = int(dato1)\n",
    "numero2 = int(dato2)\n",
    "suma = numero1 + numero2\n",
    "strSuma = str(suma)\n",
    "resultado = \"La suma es \" + strSuma\n",
    "print(resultado)"
   ]
  },
  {
   "cell_type": "code",
   "execution_count": null,
   "metadata": {},
   "outputs": [],
   "source": []
  }
 ],
 "metadata": {
  "kernelspec": {
   "display_name": "Python 3",
   "language": "python",
   "name": "python3"
  },
  "language_info": {
   "codemirror_mode": {
    "name": "ipython",
    "version": 3
   },
   "file_extension": ".py",
   "mimetype": "text/x-python",
   "name": "python",
   "nbconvert_exporter": "python",
   "pygments_lexer": "ipython3",
   "version": "3.8.5"
  }
 },
 "nbformat": 4,
 "nbformat_minor": 4
}
