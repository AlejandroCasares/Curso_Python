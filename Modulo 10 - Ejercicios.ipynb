{
 "cells": [
  {
   "cell_type": "markdown",
   "metadata": {},
   "source": [
    "# Modulo 10: Ejercicios"
   ]
  },
  {
   "cell_type": "markdown",
   "metadata": {},
   "source": [
    "### Enunciado 1\n",
    "\n",
    "Dada la siguiente lista = [1,2,5,25,33,56,75,21,56,89,43,13,62,24]\n",
    "\n",
    "Mostrar mediante el metodo print y el operador in, si el numero 21 está en la lista"
   ]
  },
  {
   "cell_type": "code",
   "execution_count": 1,
   "metadata": {},
   "outputs": [],
   "source": [
    "lista = [1,2,5,25,33,56,75,21,56,89,43,13,62,24]"
   ]
  },
  {
   "cell_type": "code",
   "execution_count": 2,
   "metadata": {},
   "outputs": [
    {
     "name": "stdout",
     "output_type": "stream",
     "text": [
      "Si, el número 21 está en la lista\n"
     ]
    }
   ],
   "source": [
    "if (21 in lista):\n",
    "    print(\"Si, el número 21 está en la lista\")\n",
    "else:\n",
    "    print(\"No, el número 21 no está en la lista\")"
   ]
  },
  {
   "cell_type": "code",
   "execution_count": null,
   "metadata": {},
   "outputs": [],
   "source": []
  },
  {
   "cell_type": "markdown",
   "metadata": {},
   "source": [
    "### Enunciado 2\n",
    "\n",
    "1. Crear una variable llamada tupla que sea una tupla de los siguientes nombres: Antonio, Pedro y María\n",
    "\n",
    "2. Mostrar el valor de la variable \"tupla\"\n",
    "\n",
    "3. Recoger un dato por teclado y almacenarlo en la variable \"dato\"\n",
    "\n",
    "4. Si el valor de \"dato\" etá dentro de los valores de la variable \"tupla\", mostrar \"Si\"\n",
    "\n",
    "5. Si el valor de \"dato\" no etá dentro de los valores de la variable \"tupla\", mostrar \"No\""
   ]
  },
  {
   "cell_type": "code",
   "execution_count": 6,
   "metadata": {},
   "outputs": [],
   "source": [
    "tupla = (\"Antonio\",\"Pedro\",\"Maria\")"
   ]
  },
  {
   "cell_type": "code",
   "execution_count": 7,
   "metadata": {},
   "outputs": [
    {
     "data": {
      "text/plain": [
       "('Antonio', 'Pedro', 'Maria')"
      ]
     },
     "execution_count": 7,
     "metadata": {},
     "output_type": "execute_result"
    }
   ],
   "source": [
    "tupla"
   ]
  },
  {
   "cell_type": "code",
   "execution_count": 10,
   "metadata": {},
   "outputs": [
    {
     "name": "stdout",
     "output_type": "stream",
     "text": [
      "Por favor, escriba un nombre:\n",
      "Antonio\n",
      "Si\n"
     ]
    }
   ],
   "source": [
    "print(\"Por favor, escriba un nombre:\")\n",
    "dato = input()\n",
    "if dato in tupla:\n",
    "    print(\"Si\")\n",
    "else:\n",
    "    print(\"No\")"
   ]
  },
  {
   "cell_type": "code",
   "execution_count": null,
   "metadata": {},
   "outputs": [],
   "source": []
  },
  {
   "cell_type": "markdown",
   "metadata": {},
   "source": [
    "### Enunciado 3\n",
    "\n",
    "1. Crear una variable \"conjunto\" que sea un conjunto de los valores 1,2,3,4 y 5\n",
    "2. Mostrar el valor de la variable \"conjunto\"\n",
    "3. Añadir los números 6,7,8 y 9 a la variable \"conjunto\"\n",
    "4. Mostrar el valor de la variable \"conjunto\"\n",
    "5. Eliminar el numero 9 de la variable conjunto\n",
    "6. Mostrar el valor de la variable \"conjunto\"\n",
    "7. Verificar que el tipo de dato de la variable \"conjunto\""
   ]
  },
  {
   "cell_type": "code",
   "execution_count": 26,
   "metadata": {},
   "outputs": [],
   "source": [
    "conjunto = {1,2,3,4,5}"
   ]
  },
  {
   "cell_type": "code",
   "execution_count": 27,
   "metadata": {},
   "outputs": [
    {
     "data": {
      "text/plain": [
       "{1, 2, 3, 4, 5}"
      ]
     },
     "execution_count": 27,
     "metadata": {},
     "output_type": "execute_result"
    }
   ],
   "source": [
    "conjunto"
   ]
  },
  {
   "cell_type": "code",
   "execution_count": 28,
   "metadata": {},
   "outputs": [],
   "source": [
    "añadir = (6,7,8,9)"
   ]
  },
  {
   "cell_type": "code",
   "execution_count": 29,
   "metadata": {},
   "outputs": [],
   "source": [
    "for i in añadir:\n",
    "    conjunto.add(i)"
   ]
  },
  {
   "cell_type": "code",
   "execution_count": 30,
   "metadata": {},
   "outputs": [
    {
     "data": {
      "text/plain": [
       "{1, 2, 3, 4, 5, 6, 7, 8, 9}"
      ]
     },
     "execution_count": 30,
     "metadata": {},
     "output_type": "execute_result"
    }
   ],
   "source": [
    "conjunto"
   ]
  },
  {
   "cell_type": "code",
   "execution_count": 31,
   "metadata": {},
   "outputs": [],
   "source": [
    "conjunto.remove(9)"
   ]
  },
  {
   "cell_type": "code",
   "execution_count": 32,
   "metadata": {},
   "outputs": [
    {
     "data": {
      "text/plain": [
       "{1, 2, 3, 4, 5, 6, 7, 8}"
      ]
     },
     "execution_count": 32,
     "metadata": {},
     "output_type": "execute_result"
    }
   ],
   "source": [
    "conjunto"
   ]
  },
  {
   "cell_type": "code",
   "execution_count": 33,
   "metadata": {},
   "outputs": [
    {
     "data": {
      "text/plain": [
       "set"
      ]
     },
     "execution_count": 33,
     "metadata": {},
     "output_type": "execute_result"
    }
   ],
   "source": [
    "type(conjunto)"
   ]
  },
  {
   "cell_type": "code",
   "execution_count": null,
   "metadata": {},
   "outputs": [],
   "source": []
  },
  {
   "cell_type": "markdown",
   "metadata": {},
   "source": [
    "### Enunciado 4\n",
    "\n",
    "1. Crear una variable \"diccionario\" con los siguientes pares de valores:\n",
    "    clave = uno valor = one\n",
    "    clave = dos valor = two\n",
    "    clave = tres valor = three\n",
    "2. Mostrar el valor de la variable diccionario\n",
    "3. Añadir un nuevo elemento al diccionario: clave = cuatro, valor = four\n",
    "4. Mostrar el valor de la variable diccionario\n",
    "5. Recoger un valor introducido por teclado y almacenarlo en \"dato\"\n",
    "6. Utilizar \"dato\" como clave del diccionario para recuperar su valor"
   ]
  },
  {
   "cell_type": "code",
   "execution_count": 34,
   "metadata": {},
   "outputs": [],
   "source": [
    "diccionario = {\"uno\":\"one\",\"dos\":\"two\",\"tres\":\"three\"}"
   ]
  },
  {
   "cell_type": "code",
   "execution_count": 35,
   "metadata": {},
   "outputs": [
    {
     "data": {
      "text/plain": [
       "{'uno': 'one', 'dos': 'two', 'tres': 'three'}"
      ]
     },
     "execution_count": 35,
     "metadata": {},
     "output_type": "execute_result"
    }
   ],
   "source": [
    "diccionario"
   ]
  },
  {
   "cell_type": "code",
   "execution_count": 36,
   "metadata": {},
   "outputs": [],
   "source": [
    "diccionario[\"cuatro\"]=\"four\""
   ]
  },
  {
   "cell_type": "code",
   "execution_count": 37,
   "metadata": {},
   "outputs": [
    {
     "data": {
      "text/plain": [
       "{'uno': 'one', 'dos': 'two', 'tres': 'three', 'cuatro': 'four'}"
      ]
     },
     "execution_count": 37,
     "metadata": {},
     "output_type": "execute_result"
    }
   ],
   "source": [
    "diccionario"
   ]
  },
  {
   "cell_type": "code",
   "execution_count": 38,
   "metadata": {},
   "outputs": [
    {
     "name": "stdout",
     "output_type": "stream",
     "text": [
      "Por favor seleccione y escriba un número (uno, dos, tres, cuatro):\n",
      "uno\n",
      "one\n"
     ]
    }
   ],
   "source": [
    "print(\"Por favor seleccione y escriba un número (uno, dos, tres, cuatro):\")\n",
    "dato = input()\n",
    "print(diccionario[dato])"
   ]
  },
  {
   "cell_type": "code",
   "execution_count": null,
   "metadata": {},
   "outputs": [],
   "source": []
  }
 ],
 "metadata": {
  "kernelspec": {
   "display_name": "Python 3",
   "language": "python",
   "name": "python3"
  },
  "language_info": {
   "codemirror_mode": {
    "name": "ipython",
    "version": 3
   },
   "file_extension": ".py",
   "mimetype": "text/x-python",
   "name": "python",
   "nbconvert_exporter": "python",
   "pygments_lexer": "ipython3",
   "version": "3.8.5"
  }
 },
 "nbformat": 4,
 "nbformat_minor": 4
}
