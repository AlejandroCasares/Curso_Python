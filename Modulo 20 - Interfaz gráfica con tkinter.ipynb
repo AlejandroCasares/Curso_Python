{
 "cells": [
  {
   "cell_type": "markdown",
   "metadata": {},
   "source": [
    "# Modulo 20: Interfaz gráfica con tkinter\n",
    "\n",
    "Las interfaces gráficas son medios visuales que permiten al usuario interacturar de forma gráfica.\n",
    "El módulo tkinter tiene una serie de componentes llamados widgets:\n",
    "\n",
    "* **Tk**: Es el componente que contiene el resto de los componentes, es decir, es el elemento raiz.\n",
    "* **Frame**: Es un marco que puede contener otros widgets y que tiene un tamaño propio.\n",
    "* **Lable**: Es una etiqueta donde podemos insertar algún texto.\n",
    "* **Entry**: Es un campo de texto sencillo para escribir un texto corto, como un nombre en un formulario.\n",
    "* **Text**: Es un campo de texto grande para escribir varias líneas de texto, como un campo comentario.\n",
    "* **Buttom**: Es un botón sobre el que se puede realizar un clic.\n",
    "* **RadioButton**: Es un botón para elegir una opción entre varias posibilidades.\n",
    "* **CheckButton**: Es un botón para marcar una opción de tipo \"tic\" (activado/desactivado)\n",
    "* **Menú**: Es un componente para crear los menús de las aplicaciones\n",
    "* **Dialogs**: Es un componente para crear ventanas emergentes para mostrar información al usuario, como alertas o confirmaciones"
   ]
  },
  {
   "cell_type": "markdown",
   "metadata": {},
   "source": [
    "#### Componente raiz (tk)"
   ]
  },
  {
   "cell_type": "code",
   "execution_count": 10,
   "metadata": {},
   "outputs": [],
   "source": [
    "import tkinter"
   ]
  },
  {
   "cell_type": "code",
   "execution_count": 17,
   "metadata": {},
   "outputs": [],
   "source": [
    "raiz = tkinter.Tk() #Devuelve el elemento raiz"
   ]
  },
  {
   "cell_type": "code",
   "execution_count": 18,
   "metadata": {},
   "outputs": [
    {
     "data": {
      "text/plain": [
       "''"
      ]
     },
     "execution_count": 18,
     "metadata": {},
     "output_type": "execute_result"
    }
   ],
   "source": [
    "raiz.title(\"Mi programa\")\n",
    "# raiz.mainloop()"
   ]
  },
  {
   "cell_type": "markdown",
   "metadata": {},
   "source": [
    "#### Componente Frame"
   ]
  },
  {
   "cell_type": "code",
   "execution_count": 19,
   "metadata": {},
   "outputs": [],
   "source": [
    "frame = tkinter.Frame(raiz)  #Permite incluir otros componentes dentro de él"
   ]
  },
  {
   "cell_type": "code",
   "execution_count": 21,
   "metadata": {},
   "outputs": [],
   "source": [
    "frame.config(bg=\"blue\", width=400,height=300) #bg = color del fondo, width = ancho, \n",
    "frame.pack() #Para mostrarlo en pantalla\n",
    "raiz.mainloop()"
   ]
  },
  {
   "cell_type": "markdown",
   "metadata": {},
   "source": [
    "#### Componente Lable"
   ]
  },
  {
   "cell_type": "code",
   "execution_count": 27,
   "metadata": {},
   "outputs": [],
   "source": [
    "\n",
    "raiz = tkinter.Tk()\n",
    "raiz.title(\"Mi programa\")\n",
    "\n",
    "#Creamos el componente Lable (Etiqueta):\n",
    "\n",
    "texto = \"Hola mundo\" #Es el texto que mostrará nuestra etiqueta\n",
    "etiqueta = tkinter.Label(raiz,text=texto) #Dos componentes, la raiz donde se incluye, y el texto que se incluye\n",
    "etiqueta.config(fg=\"green\", bg = \"lightgrey\", font=(\"Cortana\",20))\n",
    "etiqueta.pack()\n",
    "\n",
    "\n",
    "raiz.mainloop()"
   ]
  },
  {
   "cell_type": "markdown",
   "metadata": {},
   "source": [
    "### Entry"
   ]
  },
  {
   "cell_type": "code",
   "execution_count": 30,
   "metadata": {},
   "outputs": [],
   "source": [
    "\n",
    "raiz = tkinter.Tk()\n",
    "raiz.title(\"Mi programa\")\n",
    "\n",
    "#Creamos el componente Entry (entrada de datos):\n",
    "\n",
    "entrada = tkinter.Entry(raiz)\n",
    "entrada.config(justify=\"center\", show=\"*\")\n",
    "entrada.pack() #Para mostrarlo por pantalla\n",
    "\n",
    "\n",
    "raiz.mainloop()"
   ]
  },
  {
   "cell_type": "markdown",
   "metadata": {},
   "source": [
    "#### Text"
   ]
  },
  {
   "cell_type": "code",
   "execution_count": 2,
   "metadata": {},
   "outputs": [],
   "source": [
    "import tkinter\n",
    "raiz = tkinter.Tk()\n",
    "raiz.title(\"Mi programa\")\n",
    "\n",
    "#Creamos el componente Text (entrada de texto largo):\n",
    "\n",
    "texto = tkinter.Text(raiz)\n",
    "texto.config(width=20,height = 10, font = (\"Verdana\",15), padx=10, pady=10, fg=\"green\", selectbackground = \"lightgreen\")\n",
    "texto.pack() #Para mostrarlo por pantalla\n",
    "\n",
    "\n",
    "raiz.mainloop()"
   ]
  },
  {
   "cell_type": "markdown",
   "metadata": {},
   "source": [
    "#### Button"
   ]
  },
  {
   "cell_type": "code",
   "execution_count": 5,
   "metadata": {},
   "outputs": [
    {
     "name": "stdout",
     "output_type": "stream",
     "text": [
      "Hola mundo!\n",
      "Hola mundo!\n"
     ]
    }
   ],
   "source": [
    "import tkinter\n",
    "raiz = tkinter.Tk()\n",
    "raiz.title(\"Mi programa\")\n",
    "\n",
    "#Creamos el componente Button (boton para ejecutar una acción):\n",
    "\n",
    "#Definimos la acción que ejecutará el boton:\n",
    "def accion():\n",
    "    print(\"Hola mundo!\")\n",
    "\n",
    "boton = tkinter.Button(raiz,text=\"Ejecutar\",command=accion)\n",
    "boton.config(fg=\"green\",)\n",
    "boton.pack() #Para mostrarlo por pantalla\n",
    "\n",
    "\n",
    "raiz.mainloop()"
   ]
  },
  {
   "cell_type": "markdown",
   "metadata": {},
   "source": [
    "#### Radiobutton\n",
    "\n",
    "Boton de selección múltiple"
   ]
  },
  {
   "cell_type": "code",
   "execution_count": 9,
   "metadata": {},
   "outputs": [
    {
     "name": "stdout",
     "output_type": "stream",
     "text": [
      "La variable seleccionada es 1\n",
      "La variable seleccionada es 2\n",
      "La variable seleccionada es 3\n"
     ]
    }
   ],
   "source": [
    "import tkinter\n",
    "raiz = tkinter.Tk()\n",
    "raiz.title(\"Mi programa\")\n",
    "\n",
    "#Creamos el componente Radio Button:\n",
    "\n",
    "def seleccionar():\n",
    "    print(\"La variable seleccionada es {}\".format(opcion.get()))\n",
    "\n",
    "opcion = tkinter.IntVar()\n",
    "\n",
    "boton_multiple1 = tkinter.Radiobutton(raiz, text=\"Opción 1\",variable = opcion, value =1, command = seleccionar)\n",
    "boton_multiple1.pack() #Para mostrarlo por pantalla\n",
    "\n",
    "\n",
    "boton_multiple2 = tkinter.Radiobutton(raiz, text=\"Opción 2\",variable = opcion, value=2, command = seleccionar)\n",
    "boton_multiple2.pack() \n",
    "\n",
    "\n",
    "boton_multiple3 = tkinter.Radiobutton(raiz, text=\"Opción 3\",variable = opcion, value=3, command = seleccionar)\n",
    "boton_multiple3.pack() \n",
    "\n",
    "\n",
    "raiz.mainloop()"
   ]
  },
  {
   "cell_type": "markdown",
   "metadata": {},
   "source": [
    "#### Checkbutton"
   ]
  },
  {
   "cell_type": "code",
   "execution_count": 12,
   "metadata": {},
   "outputs": [
    {
     "name": "stdout",
     "output_type": "stream",
     "text": [
      "El check está desactivado\n",
      "El check está desactivado\n"
     ]
    }
   ],
   "source": [
    "import tkinter\n",
    "raiz = tkinter.Tk()\n",
    "raiz.title(\"Mi programa\")\n",
    "\n",
    "#Creamos nuestro Checkbutton\n",
    "\n",
    "#Definimos la función que ejecutará \n",
    "def verificar():\n",
    "    valor = check1.get()\n",
    "    if (valor == 1):\n",
    "        print(\"El check está activado\")\n",
    "    else:\n",
    "        print(\"El check está desactivado\")\n",
    "    \n",
    "check1=tkinter.IntVar()\n",
    "    \n",
    "boton1 = tkinter.Checkbutton(raiz, text=\"Opcion 1\", variable=check1, onvalue=1,offvalue=0, command=verificar)\n",
    "boton1.pack()\n",
    "\n",
    "\n",
    "raiz.mainloop()"
   ]
  },
  {
   "cell_type": "markdown",
   "metadata": {},
   "source": [
    "#### messagebox"
   ]
  },
  {
   "cell_type": "code",
   "execution_count": 14,
   "metadata": {},
   "outputs": [],
   "source": [
    "import tkinter\n",
    "from tkinter import messagebox # Es necesario cargarlo de forma especifica para que funcione bien\n",
    "raiz = tkinter.Tk()\n",
    "raiz.title(\"Mi programa\")\n",
    "\n",
    "#Creamos el componente messagebox\n",
    "\n",
    "def avisar():\n",
    "    tkinter.messagebox.showinfo(\"Titulo\",\"Mensaje con la informacion\")\n",
    "\n",
    "boton = tkinter.Button(raiz,text=\"Pulsar para aviso\", command=avisar)\n",
    "boton.pack()\n",
    "\n",
    "raiz.mainloop()"
   ]
  },
  {
   "cell_type": "markdown",
   "metadata": {},
   "source": [
    "#### messagebox para preguntar"
   ]
  },
  {
   "cell_type": "code",
   "execution_count": 15,
   "metadata": {},
   "outputs": [
    {
     "name": "stdout",
     "output_type": "stream",
     "text": [
      "No, no quiero borrar el fichero\n",
      "Si, quiero borrar el fichero\n"
     ]
    }
   ],
   "source": [
    "import tkinter\n",
    "from tkinter import messagebox\n",
    "\n",
    "raiz = tkinter.Tk()\n",
    "raiz.title(\"Mi programa\")\n",
    "\n",
    "#Creamos una ventana para preguntar o confirmar algo\n",
    "\n",
    "#Creamos la función preguntar que contendrá el boton\n",
    "def preguntar():\n",
    "    resultado = tkinter.messagebox.askquestion(\"Titulo de la pregunta\",\"¿Quieres borrar este fichero?\")\n",
    "    \n",
    "    if (resultado == \"yes\"):\n",
    "        print(\"Si, quiero borrar el fichero\")\n",
    "    else:\n",
    "        print(\"No, no quiero borrar el fichero\")\n",
    "        \n",
    "        \n",
    "#Creamos un boton con el que preguntar y lanzar la pregunta\n",
    "boton = tkinter.Button(raiz, text = \"Pulsar para preguntar\", command = preguntar)\n",
    "boton.pack()\n",
    "\n",
    "raiz.mainloop()"
   ]
  },
  {
   "cell_type": "markdown",
   "metadata": {},
   "source": [
    "#### filedialog"
   ]
  },
  {
   "cell_type": "code",
   "execution_count": 17,
   "metadata": {},
   "outputs": [
    {
     "name": "stdout",
     "output_type": "stream",
     "text": [
      "/Users/alejandrocasares/Downloads/full_data.txt\n"
     ]
    }
   ],
   "source": [
    "import tkinter\n",
    "from tkinter import filedialog\n",
    "raiz = tkinter.Tk()\n",
    "raiz.title(\"Mi programa\")\n",
    "\n",
    "# Creamos un metodo para abrir un fichero\n",
    "\n",
    "def abrirfichero():\n",
    "    ruta_fichero = tkinter.filedialog.askopenfilename(title = \"Abrir un fichero\")\n",
    "    print(ruta_fichero)\n",
    "\n",
    "boton = tkinter.Button(raiz, text=\"Pulsar para empezar\", command = abrirfichero)\n",
    "boton.pack()\n",
    "\n",
    "\n",
    "raiz.mainloop()"
   ]
  },
  {
   "cell_type": "code",
   "execution_count": null,
   "metadata": {},
   "outputs": [],
   "source": []
  }
 ],
 "metadata": {
  "kernelspec": {
   "display_name": "Python 3",
   "language": "python",
   "name": "python3"
  },
  "language_info": {
   "codemirror_mode": {
    "name": "ipython",
    "version": 3
   },
   "file_extension": ".py",
   "mimetype": "text/x-python",
   "name": "python",
   "nbconvert_exporter": "python",
   "pygments_lexer": "ipython3",
   "version": "3.8.5"
  }
 },
 "nbformat": 4,
 "nbformat_minor": 4
}
