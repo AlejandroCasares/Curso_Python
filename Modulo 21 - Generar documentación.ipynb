{
 "cells": [
  {
   "cell_type": "markdown",
   "metadata": {},
   "source": [
    "# Modulo 21: Generar documentación automaticamente"
   ]
  },
  {
   "cell_type": "markdown",
   "metadata": {},
   "source": [
    "### Docstrings\n",
    "\n",
    "Son cadenas para generar automaticamente documentación de nuestros programas en Python"
   ]
  },
  {
   "cell_type": "code",
   "execution_count": 1,
   "metadata": {},
   "outputs": [],
   "source": [
    "#Comenzamos creando documentación para una función:\n",
    "\n",
    "def Saludar(nombre):\n",
    "    \"\"\"\n",
    "    \n",
    "    Esto será un comentario de la función Saludar\n",
    "    Esta función recibirá como parametro de entrada una cadena de texto con el nombre\n",
    "    E imprimirá por pantalla un saludo con el nombre concatenado\n",
    "    \n",
    "    \"\"\"\n",
    "    print(\"Buenos días \" + nombre)"
   ]
  },
  {
   "cell_type": "code",
   "execution_count": 2,
   "metadata": {},
   "outputs": [
    {
     "name": "stdout",
     "output_type": "stream",
     "text": [
      "Buenos días Antonio\n"
     ]
    }
   ],
   "source": [
    "Saludar(\"Antonio\")"
   ]
  },
  {
   "cell_type": "code",
   "execution_count": 3,
   "metadata": {},
   "outputs": [
    {
     "name": "stdout",
     "output_type": "stream",
     "text": [
      "Help on function Saludar in module __main__:\n",
      "\n",
      "Saludar(nombre)\n",
      "    Esto será un comentario de la función Saludar\n",
      "    Esta función recibirá como parametro de entrada una cadena de texto con el nombre\n",
      "    E imprimirá por pantalla un saludo con el nombre concatenado\n",
      "\n"
     ]
    }
   ],
   "source": [
    "help(Saludar) #Muestra la documentación de la función"
   ]
  },
  {
   "cell_type": "code",
   "execution_count": 4,
   "metadata": {},
   "outputs": [],
   "source": [
    "class Saludos:\n",
    "    \"\"\"\n",
    "    Esta clase tendrá dos funciones: buenos_días y adios\n",
    "    Ambas funciones recibirán como parametro un nombre\n",
    "    \n",
    "    \"\"\"\n",
    "    \n",
    "    def buenos_dias(self,nombre):\n",
    "        \"\"\"  Esta función sirve para decir Buenos días a una persona  \"\"\"\n",
    "        print(\"Buenos días {}\".format(nombre))\n",
    "        \n",
    "    def adios(self,nombre):\n",
    "        \"\"\"  Esta función sirve para despedirse de una persona  \"\"\"\n",
    "        print(\"Adios {}\".format(nombre))\n",
    "        "
   ]
  },
  {
   "cell_type": "code",
   "execution_count": 5,
   "metadata": {},
   "outputs": [
    {
     "ename": "NameError",
     "evalue": "name 'adios' is not defined",
     "output_type": "error",
     "traceback": [
      "\u001b[0;31m---------------------------------------------------------------------------\u001b[0m",
      "\u001b[0;31mNameError\u001b[0m                                 Traceback (most recent call last)",
      "\u001b[0;32m<ipython-input-5-a89c19e44603>\u001b[0m in \u001b[0;36m<module>\u001b[0;34m\u001b[0m\n\u001b[0;32m----> 1\u001b[0;31m \u001b[0madios\u001b[0m\u001b[0;34m(\u001b[0m\u001b[0;34m\"Paco\"\u001b[0m\u001b[0;34m)\u001b[0m\u001b[0;34m\u001b[0m\u001b[0;34m\u001b[0m\u001b[0m\n\u001b[0m",
      "\u001b[0;31mNameError\u001b[0m: name 'adios' is not defined"
     ]
    }
   ],
   "source": [
    "adios(\"Paco\") #Primero hay que aplicar la clase a algún objeto, si no, no podmeos usar sus funciones"
   ]
  },
  {
   "cell_type": "code",
   "execution_count": 6,
   "metadata": {},
   "outputs": [],
   "source": [
    "saludo = Saludos()"
   ]
  },
  {
   "cell_type": "code",
   "execution_count": 7,
   "metadata": {},
   "outputs": [
    {
     "name": "stdout",
     "output_type": "stream",
     "text": [
      "Buenos días Paco\n"
     ]
    }
   ],
   "source": [
    "saludo.buenos_dias(\"Paco\")"
   ]
  },
  {
   "cell_type": "code",
   "execution_count": 9,
   "metadata": {},
   "outputs": [
    {
     "name": "stdout",
     "output_type": "stream",
     "text": [
      "Adios Maria\n"
     ]
    }
   ],
   "source": [
    "saludo.adios(\"Maria\")"
   ]
  },
  {
   "cell_type": "code",
   "execution_count": 10,
   "metadata": {},
   "outputs": [
    {
     "name": "stdout",
     "output_type": "stream",
     "text": [
      "Help on class Saludos in module __main__:\n",
      "\n",
      "class Saludos(builtins.object)\n",
      " |  Esta clase tendrá dos funciones: buenos_días y adios\n",
      " |  Ambas funciones recibirán como parametro un nombre\n",
      " |  \n",
      " |  Methods defined here:\n",
      " |  \n",
      " |  adios(self, nombre)\n",
      " |      Esta función sirve para despedirse de una persona\n",
      " |  \n",
      " |  buenos_dias(self, nombre)\n",
      " |      Esta función sirve para decir Buenos días a una persona\n",
      " |  \n",
      " |  ----------------------------------------------------------------------\n",
      " |  Data descriptors defined here:\n",
      " |  \n",
      " |  __dict__\n",
      " |      dictionary for instance variables (if defined)\n",
      " |  \n",
      " |  __weakref__\n",
      " |      list of weak references to the object (if defined)\n",
      "\n"
     ]
    }
   ],
   "source": [
    "help(Saludos)"
   ]
  },
  {
   "cell_type": "code",
   "execution_count": 11,
   "metadata": {},
   "outputs": [
    {
     "name": "stdout",
     "output_type": "stream",
     "text": [
      "Help on built-in function print in module builtins:\n",
      "\n",
      "print(...)\n",
      "    print(value, ..., sep=' ', end='\\n', file=sys.stdout, flush=False)\n",
      "    \n",
      "    Prints the values to a stream, or to sys.stdout by default.\n",
      "    Optional keyword arguments:\n",
      "    file:  a file-like object (stream); defaults to the current sys.stdout.\n",
      "    sep:   string inserted between values, default a space.\n",
      "    end:   string appended after the last value, default a newline.\n",
      "    flush: whether to forcibly flush the stream.\n",
      "\n"
     ]
    }
   ],
   "source": [
    "help(print)"
   ]
  },
  {
   "cell_type": "markdown",
   "metadata": {},
   "source": [
    "### pydoc\n",
    "\n",
    "Generar documentación automatica desde la consola o Terminal de comandos"
   ]
  },
  {
   "cell_type": "code",
   "execution_count": 12,
   "metadata": {},
   "outputs": [],
   "source": [
    "class Saludos:\n",
    "    \"\"\"\n",
    "    Esta clase tendrá dos funciones: buenos_días y adios\n",
    "    Ambas funciones recibirán como parametro un nombre\n",
    "    \n",
    "    \"\"\"\n",
    "    \n",
    "    def buenos_dias(self,nombre):\n",
    "        \"\"\"  Esta función sirve para decir Buenos días a una persona  \"\"\"\n",
    "        print(\"Buenos días {}\".format(nombre))\n",
    "        \n",
    "    def adios(self,nombre):\n",
    "        \"\"\"  Esta función sirve para despedirse de una persona  \"\"\"\n",
    "        print(\"Adios {}\".format(nombre))\n",
    "        "
   ]
  },
  {
   "cell_type": "markdown",
   "metadata": {},
   "source": [
    "Desde la terminal de comandos, y teniendo la ruta del fichero*.py con el código hacemos:\n",
    "\n",
    "pydoc {ruta + nombre del fichero}\n",
    "\n",
    "Esto nos devuelve la documentación generada\n",
    "\n",
    "\n",
    "Podemos generar un fichero HTML con la documentación con **\"pydoc -w\"**:\n",
    "\n",
    "\n",
    "pydoc -w + {ruta con el nombre del fichero}\n",
    "\n",
    "Nos genera un fichero .html en el mismo directorio de la ruta que indicamos y, si abrimos el archivo con un navegador, nos lleva a la documentación\n",
    "\n"
   ]
  },
  {
   "cell_type": "code",
   "execution_count": null,
   "metadata": {},
   "outputs": [],
   "source": []
  }
 ],
 "metadata": {
  "kernelspec": {
   "display_name": "Python 3",
   "language": "python",
   "name": "python3"
  },
  "language_info": {
   "codemirror_mode": {
    "name": "ipython",
    "version": 3
   },
   "file_extension": ".py",
   "mimetype": "text/x-python",
   "name": "python",
   "nbconvert_exporter": "python",
   "pygments_lexer": "ipython3",
   "version": "3.8.5"
  }
 },
 "nbformat": 4,
 "nbformat_minor": 4
}
