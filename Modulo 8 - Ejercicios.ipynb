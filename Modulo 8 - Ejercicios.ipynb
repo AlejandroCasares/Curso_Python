{
 "cells": [
  {
   "cell_type": "markdown",
   "metadata": {},
   "source": [
    "# Modulo 8: Ejercicios"
   ]
  },
  {
   "cell_type": "markdown",
   "metadata": {},
   "source": [
    "### Enunciado 1\n",
    "\n",
    "Crear una variable \"nota1\" que tenga el valor 6\n",
    "\n",
    "Crear una variable \"nota2\" que tenga el valor 4\n",
    "\n",
    "Crear una variable \"nota3\" que tenga el valor 7\n",
    "\n",
    "Crear otra variable \"nota_media\" que tenga el valor medio de las 3 notas anteriores\n",
    "\n",
    "Crear otra variable \"nota_final\" que tenga el valor \"aprobado\" (mayor o igual a 5)"
   ]
  },
  {
   "cell_type": "code",
   "execution_count": 23,
   "metadata": {},
   "outputs": [],
   "source": [
    "nota1 = 6\n",
    "nota2 = 4\n",
    "nota3 = 7"
   ]
  },
  {
   "cell_type": "code",
   "execution_count": 24,
   "metadata": {},
   "outputs": [],
   "source": [
    "nota_media = (nota1 + nota2 + nota3)/3"
   ]
  },
  {
   "cell_type": "code",
   "execution_count": 25,
   "metadata": {},
   "outputs": [],
   "source": [
    "# Otra forma de calcular la medía sería mediante la librería numpy y la función media\n",
    "# nota_media = numpy.mean(nota1,nota2,nota3)"
   ]
  },
  {
   "cell_type": "code",
   "execution_count": 26,
   "metadata": {},
   "outputs": [],
   "source": [
    "if(nota_media >= 5):\n",
    "     nota_final = \"Aprobado\"\n",
    "else:\n",
    "    nota_final = \"Suspenso\""
   ]
  },
  {
   "cell_type": "code",
   "execution_count": 27,
   "metadata": {},
   "outputs": [
    {
     "data": {
      "text/plain": [
       "'Aprobado'"
      ]
     },
     "execution_count": 27,
     "metadata": {},
     "output_type": "execute_result"
    }
   ],
   "source": [
    "nota_final"
   ]
  },
  {
   "cell_type": "code",
   "execution_count": null,
   "metadata": {},
   "outputs": [],
   "source": []
  },
  {
   "cell_type": "markdown",
   "metadata": {},
   "source": [
    "### Enunciado 2\n",
    "\n",
    "Crear una variable \"minimo\" que tenga el valor 20\n",
    "\n",
    "Crear una variable \"máximo\" que tenga el valor 500\n",
    "\n",
    "Recoge un valor del teclado y almacenalo en la variable \"dato\"\n",
    "\n",
    "Convertir la variable \"dato\" en número bajo el nombre \"numero\"\n",
    "\n",
    "Si el número es menor que el valor de \"minimo\", mostrar el texto \"Valor bajo\"\n",
    "Si el número es mayor que el valor de \"máximo\", mostrar el texto \"Valor alto\"\n",
    "Si el número es mayor que el valor de \"minimo\" y menor que el valor \"maximo\", mostrar el texto \"Valor medio\"\n"
   ]
  },
  {
   "cell_type": "code",
   "execution_count": 33,
   "metadata": {},
   "outputs": [
    {
     "name": "stdout",
     "output_type": "stream",
     "text": [
      "Escriba un número:\n",
      "500\n",
      "Valor medio\n"
     ]
    }
   ],
   "source": [
    "minimo = 20\n",
    "máximo = 500\n",
    "print(\"Escriba un número:\")\n",
    "dato = input()\n",
    "numero = int(dato)\n",
    "\n",
    "if (numero < minimo):\n",
    "    print(\"Valor bajo\")\n",
    "elif (numero >= minimo) and (numero <= máximo):\n",
    "    print(\"Valor medio\")\n",
    "else:\n",
    "    print(\"Valor alto\")"
   ]
  },
  {
   "cell_type": "code",
   "execution_count": null,
   "metadata": {},
   "outputs": [],
   "source": []
  },
  {
   "cell_type": "markdown",
   "metadata": {},
   "source": [
    "### Enunciado 3\n",
    "\n",
    "Crear una variable \"numeros\" que tenga los números del 1 al 10 \n",
    "\n",
    "Mostrar la variable \"numeros\"\n",
    "\n",
    "Recoge un valor del teclado y almacenalo en la variable \"dato\"\n",
    "\n",
    "Convertir la variable \"dato\" en número bajo el nombre \"numero\"\n",
    "\n",
    "Si el valor de \"numero\" está en la lísta de números, mostrar el mensaje \"Si\" \n",
    "\n",
    "Si el número introducido no está en la lista de números, mostrar el mensaje \"No\""
   ]
  },
  {
   "cell_type": "code",
   "execution_count": 45,
   "metadata": {},
   "outputs": [
    {
     "name": "stdout",
     "output_type": "stream",
     "text": [
      "[1, 2, 3, 4, 5, 6, 7, 8, 9, 10]\n"
     ]
    }
   ],
   "source": [
    "numeros = [1,2,3,4,5,6,7,8,9,10]\n",
    "print(numeros)"
   ]
  },
  {
   "cell_type": "code",
   "execution_count": 40,
   "metadata": {},
   "outputs": [
    {
     "data": {
      "text/plain": [
       "list"
      ]
     },
     "execution_count": 40,
     "metadata": {},
     "output_type": "execute_result"
    }
   ],
   "source": [
    "type(numeros)"
   ]
  },
  {
   "cell_type": "code",
   "execution_count": 38,
   "metadata": {},
   "outputs": [
    {
     "data": {
      "text/plain": [
       "4"
      ]
     },
     "execution_count": 38,
     "metadata": {},
     "output_type": "execute_result"
    }
   ],
   "source": [
    "numeros[3]"
   ]
  },
  {
   "cell_type": "code",
   "execution_count": 39,
   "metadata": {},
   "outputs": [
    {
     "data": {
      "text/plain": [
       "int"
      ]
     },
     "execution_count": 39,
     "metadata": {},
     "output_type": "execute_result"
    }
   ],
   "source": [
    "type(numeros[3])"
   ]
  },
  {
   "cell_type": "code",
   "execution_count": 44,
   "metadata": {},
   "outputs": [
    {
     "name": "stdout",
     "output_type": "stream",
     "text": [
      "Escriba un número:\n",
      "7\n",
      "Si\n"
     ]
    }
   ],
   "source": [
    "print(\"Escriba un número:\")\n",
    "dato = input()\n",
    "numero = int(dato)\n",
    "\n",
    "if numero in numeros:\n",
    "    print(\"Si\")\n",
    "if numero not in numeros:\n",
    "    print(\"No\")"
   ]
  },
  {
   "cell_type": "code",
   "execution_count": null,
   "metadata": {},
   "outputs": [],
   "source": []
  }
 ],
 "metadata": {
  "kernelspec": {
   "display_name": "Python 3",
   "language": "python",
   "name": "python3"
  },
  "language_info": {
   "codemirror_mode": {
    "name": "ipython",
    "version": 3
   },
   "file_extension": ".py",
   "mimetype": "text/x-python",
   "name": "python",
   "nbconvert_exporter": "python",
   "pygments_lexer": "ipython3",
   "version": "3.8.5"
  }
 },
 "nbformat": 4,
 "nbformat_minor": 4
}
