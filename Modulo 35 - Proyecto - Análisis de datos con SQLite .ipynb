{
 "cells": [
  {
   "cell_type": "markdown",
   "metadata": {},
   "source": [
    "# Modulo 35: Proyecto - Análisis de datos con SQLite "
   ]
  },
  {
   "cell_type": "markdown",
   "metadata": {},
   "source": [
    "* Crear un programa que lea los datos de un archivo comprimido\n",
    "* Guarde la información en la base de datos SQLite\n",
    "* Realice consultas sobre los datos almacenados"
   ]
  },
  {
   "cell_type": "code",
   "execution_count": 1,
   "metadata": {},
   "outputs": [],
   "source": [
    "import sys\n",
    "import os\n",
    "from zipfile import ZipFile\n",
    "import pandas as pd"
   ]
  },
  {
   "cell_type": "code",
   "execution_count": 2,
   "metadata": {},
   "outputs": [
    {
     "data": {
      "text/plain": [
       "'/Users/alejandrocasares/Desktop/Curso-Python'"
      ]
     },
     "execution_count": 2,
     "metadata": {},
     "output_type": "execute_result"
    }
   ],
   "source": [
    "os.getcwd()"
   ]
  },
  {
   "cell_type": "code",
   "execution_count": 3,
   "metadata": {},
   "outputs": [],
   "source": [
    "os.chdir('/Users/alejandrocasares/Desktop/Curso-Python/Modulo 35 - Proyecto SQLite (Recursos)')"
   ]
  },
  {
   "cell_type": "code",
   "execution_count": 4,
   "metadata": {},
   "outputs": [
    {
     "data": {
      "text/plain": [
       "<function posix.listdir(path=None)>"
      ]
     },
     "execution_count": 4,
     "metadata": {},
     "output_type": "execute_result"
    }
   ],
   "source": [
    "os.listdir"
   ]
  },
  {
   "cell_type": "code",
   "execution_count": 5,
   "metadata": {},
   "outputs": [
    {
     "name": "stdout",
     "output_type": "stream",
     "text": [
      "File Name                                             Modified             Size\n",
      "coches.csv                                     2021-11-22 18:13:34       178269\n"
     ]
    }
   ],
   "source": [
    "test_file_name = 'coches.zip'\n",
    "\n",
    "with ZipFile(test_file_name, 'r') as zip:\n",
    "    zip.printdir()\n",
    "    zip.extractall() "
   ]
  },
  {
   "cell_type": "code",
   "execution_count": 6,
   "metadata": {},
   "outputs": [],
   "source": [
    "def leer_datos(nombre):\n",
    "    datos = pd.read_csv(nombre,sep=';')\n",
    "    return datos"
   ]
  },
  {
   "cell_type": "code",
   "execution_count": 7,
   "metadata": {},
   "outputs": [],
   "source": [
    "coches = leer_datos('coches.csv')"
   ]
  },
  {
   "cell_type": "code",
   "execution_count": 8,
   "metadata": {},
   "outputs": [
    {
     "data": {
      "text/html": [
       "<div>\n",
       "<style scoped>\n",
       "    .dataframe tbody tr th:only-of-type {\n",
       "        vertical-align: middle;\n",
       "    }\n",
       "\n",
       "    .dataframe tbody tr th {\n",
       "        vertical-align: top;\n",
       "    }\n",
       "\n",
       "    .dataframe thead th {\n",
       "        text-align: right;\n",
       "    }\n",
       "</style>\n",
       "<table border=\"1\" class=\"dataframe\">\n",
       "  <thead>\n",
       "    <tr style=\"text-align: right;\">\n",
       "      <th></th>\n",
       "      <th>Marca</th>\n",
       "      <th>Modelo</th>\n",
       "      <th>Combustible</th>\n",
       "      <th>Transmisión</th>\n",
       "      <th>Estado</th>\n",
       "      <th>Año matricula</th>\n",
       "      <th>Kilometraje</th>\n",
       "      <th>Potencia</th>\n",
       "      <th>Precio</th>\n",
       "    </tr>\n",
       "  </thead>\n",
       "  <tbody>\n",
       "    <tr>\n",
       "      <th>0</th>\n",
       "      <td>Ford</td>\n",
       "      <td>Fiesta</td>\n",
       "      <td>Gasolina</td>\n",
       "      <td>Manual</td>\n",
       "      <td>Usado</td>\n",
       "      <td>05/2010</td>\n",
       "      <td>63729</td>\n",
       "      <td>82.0</td>\n",
       "      <td>2850.0</td>\n",
       "    </tr>\n",
       "    <tr>\n",
       "      <th>1</th>\n",
       "      <td>Nissan</td>\n",
       "      <td>Pixo</td>\n",
       "      <td>Gasolina</td>\n",
       "      <td>Manual</td>\n",
       "      <td>Usado</td>\n",
       "      <td>06/2011</td>\n",
       "      <td>65000</td>\n",
       "      <td>68.0</td>\n",
       "      <td>2999.0</td>\n",
       "    </tr>\n",
       "    <tr>\n",
       "      <th>2</th>\n",
       "      <td>Hyundai</td>\n",
       "      <td>i10</td>\n",
       "      <td>Gasolina</td>\n",
       "      <td>Manual</td>\n",
       "      <td>Usado</td>\n",
       "      <td>08/2012</td>\n",
       "      <td>35000</td>\n",
       "      <td>69.0</td>\n",
       "      <td>3299.0</td>\n",
       "    </tr>\n",
       "    <tr>\n",
       "      <th>3</th>\n",
       "      <td>Renault</td>\n",
       "      <td>Twingo</td>\n",
       "      <td>Gasolina</td>\n",
       "      <td>Manual</td>\n",
       "      <td>Usado</td>\n",
       "      <td>11/2011</td>\n",
       "      <td>60211</td>\n",
       "      <td>75.0</td>\n",
       "      <td>3990.0</td>\n",
       "    </tr>\n",
       "    <tr>\n",
       "      <th>4</th>\n",
       "      <td>Peugeot</td>\n",
       "      <td>107</td>\n",
       "      <td>Gasolina</td>\n",
       "      <td>Manual</td>\n",
       "      <td>Usado</td>\n",
       "      <td>06/2010</td>\n",
       "      <td>80000</td>\n",
       "      <td>68.0</td>\n",
       "      <td>3990.0</td>\n",
       "    </tr>\n",
       "    <tr>\n",
       "      <th>...</th>\n",
       "      <td>...</td>\n",
       "      <td>...</td>\n",
       "      <td>...</td>\n",
       "      <td>...</td>\n",
       "      <td>...</td>\n",
       "      <td>...</td>\n",
       "      <td>...</td>\n",
       "      <td>...</td>\n",
       "      <td>...</td>\n",
       "    </tr>\n",
       "    <tr>\n",
       "      <th>2775</th>\n",
       "      <td>Volkswagen</td>\n",
       "      <td>Golf Sportsvan</td>\n",
       "      <td>Gasolina</td>\n",
       "      <td>Automática</td>\n",
       "      <td>Usado</td>\n",
       "      <td>10/2017</td>\n",
       "      <td>22359</td>\n",
       "      <td>150.0</td>\n",
       "      <td>18450.0</td>\n",
       "    </tr>\n",
       "    <tr>\n",
       "      <th>2776</th>\n",
       "      <td>Mercedes-Benz</td>\n",
       "      <td>B 220</td>\n",
       "      <td>Gasolina</td>\n",
       "      <td>Automática</td>\n",
       "      <td>Usado</td>\n",
       "      <td>05/2015</td>\n",
       "      <td>65383</td>\n",
       "      <td>184.0</td>\n",
       "      <td>18480.0</td>\n",
       "    </tr>\n",
       "    <tr>\n",
       "      <th>2777</th>\n",
       "      <td>Opel</td>\n",
       "      <td>Zafira</td>\n",
       "      <td>Gasolina</td>\n",
       "      <td>Manual</td>\n",
       "      <td>Usado</td>\n",
       "      <td>11/2018</td>\n",
       "      <td>30900</td>\n",
       "      <td>136.0</td>\n",
       "      <td>18490.0</td>\n",
       "    </tr>\n",
       "    <tr>\n",
       "      <th>2778</th>\n",
       "      <td>Opel</td>\n",
       "      <td>Zafira</td>\n",
       "      <td>Gasolina</td>\n",
       "      <td>Automática</td>\n",
       "      <td>Usado</td>\n",
       "      <td>01/2019</td>\n",
       "      <td>35555</td>\n",
       "      <td>136.0</td>\n",
       "      <td>18490.0</td>\n",
       "    </tr>\n",
       "    <tr>\n",
       "      <th>2779</th>\n",
       "      <td>Volkswagen</td>\n",
       "      <td>Caddy</td>\n",
       "      <td>Diesel</td>\n",
       "      <td>Manual</td>\n",
       "      <td>Usado</td>\n",
       "      <td>06/2016</td>\n",
       "      <td>44430</td>\n",
       "      <td>150.0</td>\n",
       "      <td>18490.0</td>\n",
       "    </tr>\n",
       "  </tbody>\n",
       "</table>\n",
       "<p>2780 rows × 9 columns</p>\n",
       "</div>"
      ],
      "text/plain": [
       "              Marca          Modelo Combustible Transmisión Estado  \\\n",
       "0              Ford          Fiesta    Gasolina      Manual  Usado   \n",
       "1            Nissan            Pixo    Gasolina      Manual  Usado   \n",
       "2           Hyundai             i10    Gasolina      Manual  Usado   \n",
       "3           Renault          Twingo    Gasolina      Manual  Usado   \n",
       "4           Peugeot             107    Gasolina      Manual  Usado   \n",
       "...             ...             ...         ...         ...    ...   \n",
       "2775     Volkswagen  Golf Sportsvan    Gasolina  Automática  Usado   \n",
       "2776  Mercedes-Benz           B 220    Gasolina  Automática  Usado   \n",
       "2777           Opel          Zafira    Gasolina      Manual  Usado   \n",
       "2778           Opel          Zafira    Gasolina  Automática  Usado   \n",
       "2779     Volkswagen           Caddy      Diesel      Manual  Usado   \n",
       "\n",
       "     Año matricula  Kilometraje  Potencia   Precio  \n",
       "0          05/2010        63729      82.0   2850.0  \n",
       "1          06/2011        65000      68.0   2999.0  \n",
       "2          08/2012        35000      69.0   3299.0  \n",
       "3          11/2011        60211      75.0   3990.0  \n",
       "4          06/2010        80000      68.0   3990.0  \n",
       "...            ...          ...       ...      ...  \n",
       "2775       10/2017        22359     150.0  18450.0  \n",
       "2776       05/2015        65383     184.0  18480.0  \n",
       "2777       11/2018        30900     136.0  18490.0  \n",
       "2778       01/2019        35555     136.0  18490.0  \n",
       "2779       06/2016        44430     150.0  18490.0  \n",
       "\n",
       "[2780 rows x 9 columns]"
      ]
     },
     "execution_count": 8,
     "metadata": {},
     "output_type": "execute_result"
    }
   ],
   "source": [
    "coches"
   ]
  },
  {
   "cell_type": "code",
   "execution_count": 33,
   "metadata": {},
   "outputs": [],
   "source": [
    "#Vamos a crear una base de datos en el sistema"
   ]
  },
  {
   "cell_type": "code",
   "execution_count": 9,
   "metadata": {},
   "outputs": [],
   "source": [
    "import sqlite3 \n",
    "from sqlite3 import Error"
   ]
  },
  {
   "cell_type": "code",
   "execution_count": 10,
   "metadata": {},
   "outputs": [],
   "source": [
    "basededatos = 'coches.bd'"
   ]
  },
  {
   "cell_type": "code",
   "execution_count": 11,
   "metadata": {},
   "outputs": [],
   "source": [
    "def crear_conexion_bd():\n",
    "    try:            #Podríamos hacerlo sin el try, pero así si falla, nos devuelve el error\n",
    "        conexion = sqlite3.connect(basededatos)\n",
    "        return conexion\n",
    "    except Error:\n",
    "        print(Error)"
   ]
  },
  {
   "cell_type": "code",
   "execution_count": 12,
   "metadata": {},
   "outputs": [],
   "source": [
    "conexion = crear_conexion_bd()"
   ]
  },
  {
   "cell_type": "code",
   "execution_count": 13,
   "metadata": {},
   "outputs": [],
   "source": [
    "#Ahora creamos la tabla dentro de la base de datos"
   ]
  },
  {
   "cell_type": "code",
   "execution_count": 14,
   "metadata": {},
   "outputs": [],
   "source": [
    "def crear_tabla_coches(conexion):\n",
    "    cursor = conexion.cursor()\n",
    "    cursor.execute('CREATE TABLE coches(marca text, modelo text, combustible text, transmisión text, estado text, matriculación text, kilometraje integer, potencia real, precio real)')\n",
    "    conexion.commit()"
   ]
  },
  {
   "cell_type": "code",
   "execution_count": null,
   "metadata": {},
   "outputs": [],
   "source": [
    "crear_tabla_coches(conexion)"
   ]
  },
  {
   "cell_type": "code",
   "execution_count": 16,
   "metadata": {},
   "outputs": [],
   "source": [
    "#Continuamos grabando todos los registros del fichero a la base de datos\n",
    "#Definimos una función que será grabar coche:"
   ]
  },
  {
   "cell_type": "code",
   "execution_count": 22,
   "metadata": {},
   "outputs": [],
   "source": [
    "def insertar_tabla_coches(conexion,coche):\n",
    "    cursor = conexion.cursor()\n",
    "    cursor.execute('INSERT INTO coches(marca,modelo,combustible,transmisión,estado,matriculación,kilometraje,potencia,precio) VALUES (?,?,?,?,?,?,?,?,?)', coche)\n",
    "    conexion.commit()\n",
    "    \n",
    "    \n",
    "def grabar_coche(conexion,datos):\n",
    "    for fila in datos.itertuples():\n",
    "        #Vemos que en la columna 0 está el índice, así que la primera columna comienza en el 1:\n",
    "        marca = fila[1]\n",
    "        modelo = fila[2]\n",
    "        combustible = fila[3]\n",
    "        transmisión = fila[4]\n",
    "        estado = fila[5]\n",
    "        matriculación = fila[6]\n",
    "        kilometraje = fila[7]\n",
    "        potencia = fila[8]\n",
    "        precio = fila[9]\n",
    "        \n",
    "        coche = (marca,modelo,combustible,transmisión,estado,matriculación,kilometraje,potencia,precio)\n",
    "        \n",
    "        insertar_tabla_coches(conexion,coche)"
   ]
  },
  {
   "cell_type": "code",
   "execution_count": 23,
   "metadata": {},
   "outputs": [],
   "source": [
    "grabar_coche(conexion,coches)"
   ]
  },
  {
   "cell_type": "code",
   "execution_count": 24,
   "metadata": {},
   "outputs": [],
   "source": [
    "#Hacemos una función para consultar las primeras 20 filas de la tabla\n",
    "def consultar_coches(conexion):\n",
    "    cursor = conexion.cursor()\n",
    "    cursor.execute('SELECT * FROM coches LIMIT 20')\n",
    "    filas = cursor.fetchall()\n",
    "    for fila in filas:\n",
    "        print(fila)"
   ]
  },
  {
   "cell_type": "code",
   "execution_count": 25,
   "metadata": {},
   "outputs": [
    {
     "name": "stdout",
     "output_type": "stream",
     "text": [
      "('Ford', 'Fiesta', 'Gasolina', 'Manual', 'Usado', '05/2010', 63729, 82.0, 2850.0)\n",
      "('Nissan', 'Pixo', 'Gasolina', 'Manual', 'Usado', '06/2011', 65000, 68.0, 2999.0)\n",
      "('Hyundai', 'i10', 'Gasolina', 'Manual', 'Usado', '08/2012', 35000, 69.0, 3299.0)\n",
      "('Renault', 'Twingo', 'Gasolina', 'Manual', 'Usado', '11/2011', 60211, 75.0, 3990.0)\n",
      "('Peugeot', '107', 'Gasolina', 'Manual', 'Usado', '06/2010', 80000, 68.0, 3990.0)\n",
      "('Chevrolet', 'Spark', 'Gasolina', 'Manual', 'Usado', '07/2011', 79871, 68.0, 3990.0)\n",
      "('Nissan', 'Micra', 'Gasolina', 'Manual', 'Usado', '04/2012', 81000, 80.0, 4150.0)\n",
      "('Ford', 'Ka/Ka+', 'Gasolina', 'Manual', 'Usado', '07/2011', 89500, 69.0, 4490.0)\n",
      "('Opel', 'Astra', 'Gasolina', 'Manual', 'Usado', '09/2011', 72000, 116.0, 4600.0)\n",
      "('SEAT', 'Mii', 'Gasolina', 'Manual', 'Usado', '07/2012', 93400, 60.0, 4695.0)\n",
      "('Citroen', 'C1', 'Gasolina', 'Manual', 'Usado', '12/2011', 16000, 68.0, 4750.0)\n",
      "('Chevrolet', 'Spark', 'Gasolina', 'Manual', 'Usado', '08/2013', 63176, 68.0, 4790.0)\n",
      "('Skoda', 'Citigo', 'Gasolina', 'Manual', 'Usado', '06/2013', 74000, 60.0, 4880.0)\n",
      "('Mazda', '2', 'Gasolina', 'Manual', 'Usado', '03/2011', 89500, 84.0, 4890.0)\n",
      "('Mitsubishi', 'Space Star', 'Gasolina', 'Manual', 'Usado', '04/2014', 72000, 71.0, 4950.0)\n",
      "('Daihatsu', 'Charade', 'Gasolina', 'Manual', 'Usado', '05/2011', 60800, 99.0, 4980.0)\n",
      "('Ford', None, 'Gasolina', 'Manual', 'Usado', '12/2011', 47497, 69.0, 4980.0)\n",
      "('Mitsubishi', 'Space Star', 'Gasolina', 'Manual', 'Usado', '09/2017', 52700, 71.0, 4990.0)\n",
      "('Volkswagen', 'up!', 'Gasolina', 'Manual', 'Usado', '05/2012', 39278, 60.0, 4990.0)\n",
      "('Volkswagen', 'Polo', 'Gasolina', 'Manual', 'Usado', '01/2010', 67000, 60.0, 4990.0)\n"
     ]
    }
   ],
   "source": [
    "consultar_coches(conexion)"
   ]
  },
  {
   "cell_type": "code",
   "execution_count": 26,
   "metadata": {},
   "outputs": [],
   "source": [
    "#Vamos a calcular el numero total de coches de la tabla:"
   ]
  },
  {
   "cell_type": "code",
   "execution_count": 27,
   "metadata": {},
   "outputs": [],
   "source": [
    "def numero_coches(conexion):\n",
    "    cursor = conexion.cursor()\n",
    "    cursor.execute('SELECT count(*) FROM coches')\n",
    "    numero_coches = cursor.fetchall()\n",
    "    return(numero_coches)"
   ]
  },
  {
   "cell_type": "code",
   "execution_count": 28,
   "metadata": {},
   "outputs": [
    {
     "data": {
      "text/plain": [
       "[(2780,)]"
      ]
     },
     "execution_count": 28,
     "metadata": {},
     "output_type": "execute_result"
    }
   ],
   "source": [
    "numero_coches(conexion)"
   ]
  },
  {
   "cell_type": "code",
   "execution_count": 29,
   "metadata": {},
   "outputs": [],
   "source": [
    "#Calculamos ahora el precio total de todos los coches"
   ]
  },
  {
   "cell_type": "code",
   "execution_count": 32,
   "metadata": {},
   "outputs": [],
   "source": [
    "def precio_coches(conexion):\n",
    "    cursor = conexion.cursor()\n",
    "    cursor.execute('SELECT sum(precio) FROM coches')\n",
    "    prec = cursor.fetchall()\n",
    "    precio = prec[0][0]\n",
    "    return(precio)"
   ]
  },
  {
   "cell_type": "code",
   "execution_count": 33,
   "metadata": {},
   "outputs": [
    {
     "data": {
      "text/plain": [
       "38997136.0"
      ]
     },
     "execution_count": 33,
     "metadata": {},
     "output_type": "execute_result"
    }
   ],
   "source": [
    "precio_coches(conexion)"
   ]
  },
  {
   "cell_type": "code",
   "execution_count": 38,
   "metadata": {},
   "outputs": [],
   "source": [
    "precio = precio_coches(conexion)\n",
    "precio2 = '{:,}'.format(precio).replace(',','.')"
   ]
  },
  {
   "cell_type": "code",
   "execution_count": 39,
   "metadata": {},
   "outputs": [
    {
     "data": {
      "text/plain": [
       "'38.997.136.0'"
      ]
     },
     "execution_count": 39,
     "metadata": {},
     "output_type": "execute_result"
    }
   ],
   "source": [
    "precio2"
   ]
  },
  {
   "cell_type": "code",
   "execution_count": 40,
   "metadata": {},
   "outputs": [],
   "source": [
    "#Vamos a sacar la marca y modelo del coche más barato con una nueva función"
   ]
  },
  {
   "cell_type": "code",
   "execution_count": 41,
   "metadata": {},
   "outputs": [],
   "source": [
    "def coche_barato(conexion):\n",
    "    cursor = conexion.cursor()\n",
    "    cursor.execute('SELECT marca, modelo, min(precio) FROM coches')\n",
    "    datos = cursor.fetchall()\n",
    "    return(datos)"
   ]
  },
  {
   "cell_type": "code",
   "execution_count": 42,
   "metadata": {},
   "outputs": [],
   "source": [
    "datos = coche_barato(conexion)"
   ]
  },
  {
   "cell_type": "code",
   "execution_count": 43,
   "metadata": {},
   "outputs": [
    {
     "data": {
      "text/plain": [
       "[('Ford', 'Fiesta', 2850.0)]"
      ]
     },
     "execution_count": 43,
     "metadata": {},
     "output_type": "execute_result"
    }
   ],
   "source": [
    "datos"
   ]
  },
  {
   "cell_type": "code",
   "execution_count": 45,
   "metadata": {},
   "outputs": [
    {
     "name": "stdout",
     "output_type": "stream",
     "text": [
      "El coche más barato es el Ford - Fiesta, que vale 2850.0 euros\n"
     ]
    }
   ],
   "source": [
    "print('El coche más barato es el {} - {}, que vale {} euros'.format(datos[0][0],datos[0][1],datos[0][2]))"
   ]
  },
  {
   "cell_type": "code",
   "execution_count": 46,
   "metadata": {},
   "outputs": [],
   "source": [
    "#Ahora vamos a calcular el precio medio de los coches por marca"
   ]
  },
  {
   "cell_type": "code",
   "execution_count": 47,
   "metadata": {},
   "outputs": [],
   "source": [
    "def precio_medio(conexion):\n",
    "    cursor = conexion.cursor()\n",
    "    cursor.execute('SELECT avg(precio), marca FROM coches group by marca')\n",
    "    datos = cursor.fetchall()\n",
    "    return(datos)  "
   ]
  },
  {
   "cell_type": "code",
   "execution_count": 48,
   "metadata": {},
   "outputs": [],
   "source": [
    "datos = precio_medio(conexion)"
   ]
  },
  {
   "cell_type": "code",
   "execution_count": 49,
   "metadata": {},
   "outputs": [
    {
     "data": {
      "text/plain": [
       "[(16535.0, 'Abarth'),\n",
       " (8323.333333333334, 'Alfa'),\n",
       " (74950.0, 'Alpina'),\n",
       " (52870.0, 'Aston'),\n",
       " (34383.402298850575, 'Audi'),\n",
       " (26133.47191011236, 'BMW'),\n",
       " (71900.0, 'Bentley'),\n",
       " (12110.5625, 'Chevrolet'),\n",
       " (9713.880597014926, 'Citroen'),\n",
       " (65663.0, 'Corvette'),\n",
       " (7450.0, 'DS'),\n",
       " (10157.161290322581, 'Dacia'),\n",
       " (5586.0, 'Daihatsu'),\n",
       " (54298.11111111111, 'Dodge'),\n",
       " (8986.290697674418, 'Fiat'),\n",
       " (15721.104234527687, 'Ford'),\n",
       " (14658.666666666666, 'Honda'),\n",
       " (9673.251533742332, 'Hyundai'),\n",
       " (53017.555555555555, 'Jaguar'),\n",
       " (12885.8, 'Jeep'),\n",
       " (11849.247311827958, 'Kia'),\n",
       " (7700.0, 'Lada'),\n",
       " (13430.0, 'Land Rover'),\n",
       " (78890.0, 'Lexus'),\n",
       " (71489.0, 'Lotus'),\n",
       " (11231.5, 'MINI'),\n",
       " (10220.791666666666, 'Mazda'),\n",
       " (34897.26804123711, 'Mercedes-Benz'),\n",
       " (9532.333333333334, 'Microcar'),\n",
       " (8977.5, 'Mitsubishi'),\n",
       " (10564.92, 'Nissan'),\n",
       " (10311.336206896553, 'Opel'),\n",
       " (9399.378787878788, 'Peugeot'),\n",
       " (61096.25, 'Porsche'),\n",
       " (10806.988679245283, 'Renault'),\n",
       " (9368.753086419752, 'SEAT'),\n",
       " (10497.715, 'Skoda'),\n",
       " (6430.0, 'Sonstige'),\n",
       " (12440.75, 'SsangYong'),\n",
       " (12217.0, 'Subaru'),\n",
       " (9252.35294117647, 'Suzuki'),\n",
       " (14572.583333333334, 'Toyota'),\n",
       " (13165.106770833334, 'Volkswagen'),\n",
       " (9564.0, 'Volvo'),\n",
       " (7571.517241379311, 'smart')]"
      ]
     },
     "execution_count": 49,
     "metadata": {},
     "output_type": "execute_result"
    }
   ],
   "source": [
    "datos"
   ]
  },
  {
   "cell_type": "code",
   "execution_count": 50,
   "metadata": {},
   "outputs": [
    {
     "name": "stdout",
     "output_type": "stream",
     "text": [
      "Abarth 16535.0\n",
      "Alfa 8323.333333333334\n",
      "Alpina 74950.0\n",
      "Aston 52870.0\n",
      "Audi 34383.402298850575\n",
      "BMW 26133.47191011236\n",
      "Bentley 71900.0\n",
      "Chevrolet 12110.5625\n",
      "Citroen 9713.880597014926\n",
      "Corvette 65663.0\n",
      "DS 7450.0\n",
      "Dacia 10157.161290322581\n",
      "Daihatsu 5586.0\n",
      "Dodge 54298.11111111111\n",
      "Fiat 8986.290697674418\n",
      "Ford 15721.104234527687\n",
      "Honda 14658.666666666666\n",
      "Hyundai 9673.251533742332\n",
      "Jaguar 53017.555555555555\n",
      "Jeep 12885.8\n",
      "Kia 11849.247311827958\n",
      "Lada 7700.0\n",
      "Land Rover 13430.0\n",
      "Lexus 78890.0\n",
      "Lotus 71489.0\n",
      "MINI 11231.5\n",
      "Mazda 10220.791666666666\n",
      "Mercedes-Benz 34897.26804123711\n",
      "Microcar 9532.333333333334\n",
      "Mitsubishi 8977.5\n",
      "Nissan 10564.92\n",
      "Opel 10311.336206896553\n",
      "Peugeot 9399.378787878788\n",
      "Porsche 61096.25\n",
      "Renault 10806.988679245283\n",
      "SEAT 9368.753086419752\n",
      "Skoda 10497.715\n",
      "Sonstige 6430.0\n",
      "SsangYong 12440.75\n",
      "Subaru 12217.0\n",
      "Suzuki 9252.35294117647\n",
      "Toyota 14572.583333333334\n",
      "Volkswagen 13165.106770833334\n",
      "Volvo 9564.0\n",
      "smart 7571.517241379311\n"
     ]
    }
   ],
   "source": [
    "for dato in datos:\n",
    "    marca = dato[1]\n",
    "    precio = dato[0]\n",
    "    print(marca,precio)\n",
    "    "
   ]
  },
  {
   "cell_type": "code",
   "execution_count": 51,
   "metadata": {},
   "outputs": [],
   "source": [
    "#Vamos a ver como hacer pruebas automáticas de nuestro código:"
   ]
  },
  {
   "cell_type": "code",
   "execution_count": 52,
   "metadata": {},
   "outputs": [],
   "source": [
    "import unittest"
   ]
  },
  {
   "cell_type": "code",
   "execution_count": null,
   "metadata": {},
   "outputs": [],
   "source": [
    "nombre_fichero = 'test.csv'"
   ]
  },
  {
   "cell_type": "code",
   "execution_count": 54,
   "metadata": {},
   "outputs": [],
   "source": [
    "class test_numero_coches_tabla(unittest.TestCase):\n",
    "    def test(self):\n",
    "        \n",
    "        datos = leer_datos(nombre_fichero)\n",
    "        \n",
    "        conexion = crear_conexion_bd()\n",
    "        crear_tabla_coches(conexion)\n",
    "        grabar_coche(conexion,datos)\n",
    "        dato = numero_coches(conexion)\n",
    "        self.assertEqual(2780,dato)\n",
    "        "
   ]
  },
  {
   "cell_type": "code",
   "execution_count": null,
   "metadata": {},
   "outputs": [],
   "source": []
  }
 ],
 "metadata": {
  "kernelspec": {
   "display_name": "Python 3",
   "language": "python",
   "name": "python3"
  },
  "language_info": {
   "codemirror_mode": {
    "name": "ipython",
    "version": 3
   },
   "file_extension": ".py",
   "mimetype": "text/x-python",
   "name": "python",
   "nbconvert_exporter": "python",
   "pygments_lexer": "ipython3",
   "version": "3.8.5"
  }
 },
 "nbformat": 4,
 "nbformat_minor": 4
}
