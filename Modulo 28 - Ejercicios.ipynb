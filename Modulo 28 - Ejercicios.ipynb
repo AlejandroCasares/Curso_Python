{
 "cells": [
  {
   "cell_type": "markdown",
   "metadata": {},
   "source": [
    "# Modulo 28: Ejercicios"
   ]
  },
  {
   "cell_type": "markdown",
   "metadata": {},
   "source": [
    "### Ejercicio 1\n",
    "\n",
    "Tenemos 3 clases, \"clase1\", \"clase2\" y \"clase3\"\n",
    "\n",
    "Vamos a generar un número aleatorio de alumnos por clase\n",
    "\n",
    "\n",
    "Utilizar el indice de la serie creada para saber el numero de alumnas de la clase2"
   ]
  },
  {
   "cell_type": "code",
   "execution_count": 1,
   "metadata": {},
   "outputs": [],
   "source": [
    "import pandas as pd\n",
    "import numpy as np"
   ]
  },
  {
   "cell_type": "code",
   "execution_count": 2,
   "metadata": {},
   "outputs": [],
   "source": [
    "indice = ['clase1','clase2','clase3']"
   ]
  },
  {
   "cell_type": "code",
   "execution_count": 3,
   "metadata": {},
   "outputs": [],
   "source": [
    "valores = np.random.randint(1,30,3)"
   ]
  },
  {
   "cell_type": "code",
   "execution_count": 4,
   "metadata": {},
   "outputs": [
    {
     "data": {
      "text/plain": [
       "array([14, 24, 15])"
      ]
     },
     "execution_count": 4,
     "metadata": {},
     "output_type": "execute_result"
    }
   ],
   "source": [
    "valores"
   ]
  },
  {
   "cell_type": "code",
   "execution_count": 5,
   "metadata": {},
   "outputs": [],
   "source": [
    "serie = pd.Series(valores,index=indice)"
   ]
  },
  {
   "cell_type": "code",
   "execution_count": 6,
   "metadata": {},
   "outputs": [
    {
     "data": {
      "text/plain": [
       "24"
      ]
     },
     "execution_count": 6,
     "metadata": {},
     "output_type": "execute_result"
    }
   ],
   "source": [
    "serie['clase2']"
   ]
  },
  {
   "cell_type": "code",
   "execution_count": null,
   "metadata": {},
   "outputs": [],
   "source": []
  },
  {
   "cell_type": "markdown",
   "metadata": {},
   "source": [
    "## Enunciado 2\n",
    "\n",
    "* Dadoel fichero excel adjuntado, copiar los datos en el cortapapeles\n",
    "* Crear un dataframe \"datos\" con esos datos\n",
    "* Mostrar por pantalla todos los datos\n",
    "* Mostrar todos los nombres de las columnas del dataframe\n",
    "* Mostrar la primera fila del dataframe\n",
    "* Mostrar todas las filas pero solos las columnas \"contienente\" y \"Población\"\n",
    "* Mostrar las primeras 3 filas del dataframe\n",
    "* Mostrar las últimas 2 columnas del dataframe"
   ]
  },
  {
   "cell_type": "code",
   "execution_count": 16,
   "metadata": {},
   "outputs": [],
   "source": [
    "import os\n",
    "import pandas as pd"
   ]
  },
  {
   "cell_type": "code",
   "execution_count": 11,
   "metadata": {},
   "outputs": [
    {
     "data": {
      "text/plain": [
       "'/Users/alejandrocasares/Desktop/Curso-Python'"
      ]
     },
     "execution_count": 11,
     "metadata": {},
     "output_type": "execute_result"
    }
   ],
   "source": [
    "os.getcwd()"
   ]
  },
  {
   "cell_type": "code",
   "execution_count": 14,
   "metadata": {},
   "outputs": [],
   "source": [
    "os.chdir('/Users/alejandrocasares/Desktop/Curso-Python/Modulo 28 - Ejercicios (Recursos)')"
   ]
  },
  {
   "cell_type": "code",
   "execution_count": 15,
   "metadata": {},
   "outputs": [
    {
     "data": {
      "text/plain": [
       "'/Users/alejandrocasares/Desktop/Curso-Python/Modulo 28 - Ejercicios (Recursos)'"
      ]
     },
     "execution_count": 15,
     "metadata": {},
     "output_type": "execute_result"
    }
   ],
   "source": [
    "os.getcwd()"
   ]
  },
  {
   "cell_type": "code",
   "execution_count": 17,
   "metadata": {},
   "outputs": [
    {
     "data": {
      "text/plain": [
       "['.DS_Store', 'poblacion2.csv', 'poblacion.xlsx', 'poblacion3.txt']"
      ]
     },
     "execution_count": 17,
     "metadata": {},
     "output_type": "execute_result"
    }
   ],
   "source": [
    "os.listdir()"
   ]
  },
  {
   "cell_type": "code",
   "execution_count": 23,
   "metadata": {},
   "outputs": [],
   "source": [
    "datos = pd.read_csv(\"poblacion2.csv\",sep = ';')"
   ]
  },
  {
   "cell_type": "code",
   "execution_count": 24,
   "metadata": {},
   "outputs": [
    {
     "data": {
      "text/plain": [
       "pandas.core.frame.DataFrame"
      ]
     },
     "execution_count": 24,
     "metadata": {},
     "output_type": "execute_result"
    }
   ],
   "source": [
    "type(datos)"
   ]
  },
  {
   "cell_type": "code",
   "execution_count": 25,
   "metadata": {},
   "outputs": [
    {
     "data": {
      "text/html": [
       "<div>\n",
       "<style scoped>\n",
       "    .dataframe tbody tr th:only-of-type {\n",
       "        vertical-align: middle;\n",
       "    }\n",
       "\n",
       "    .dataframe tbody tr th {\n",
       "        vertical-align: top;\n",
       "    }\n",
       "\n",
       "    .dataframe thead th {\n",
       "        text-align: right;\n",
       "    }\n",
       "</style>\n",
       "<table border=\"1\" class=\"dataframe\">\n",
       "  <thead>\n",
       "    <tr style=\"text-align: right;\">\n",
       "      <th></th>\n",
       "      <th>Continente</th>\n",
       "      <th>Densidad</th>\n",
       "      <th>Superficie</th>\n",
       "      <th>Población</th>\n",
       "      <th>País más poblado</th>\n",
       "      <th>Ciudad más poblada</th>\n",
       "    </tr>\n",
       "  </thead>\n",
       "  <tbody>\n",
       "    <tr>\n",
       "      <th>0</th>\n",
       "      <td>Asia</td>\n",
       "      <td>86,88</td>\n",
       "      <td>43.810.000</td>\n",
       "      <td>4.677.291.000</td>\n",
       "      <td>China (1.392.240.000)</td>\n",
       "      <td>Tokio (35.682.000)</td>\n",
       "    </tr>\n",
       "    <tr>\n",
       "      <th>1</th>\n",
       "      <td>África</td>\n",
       "      <td>32,7</td>\n",
       "      <td>30.370.000</td>\n",
       "      <td>1.110.020.000</td>\n",
       "      <td>Nigeria (191.205.000)</td>\n",
       "      <td>El Cairo (16.794.000)</td>\n",
       "    </tr>\n",
       "    <tr>\n",
       "      <th>2</th>\n",
       "      <td>Europa</td>\n",
       "      <td>70</td>\n",
       "      <td>10.180.000</td>\n",
       "      <td>801.000.000</td>\n",
       "      <td>Rusia (112.000.000)</td>\n",
       "      <td>Moscú (18.940.000)</td>\n",
       "    </tr>\n",
       "    <tr>\n",
       "      <th>3</th>\n",
       "      <td>América</td>\n",
       "      <td>23,5</td>\n",
       "      <td>42.330.000</td>\n",
       "      <td>1.094.215.000</td>\n",
       "      <td>Estados Unidos (330.028.000)</td>\n",
       "      <td>Ciudad de México (22.577.000)</td>\n",
       "    </tr>\n",
       "    <tr>\n",
       "      <th>4</th>\n",
       "      <td>Oceanía</td>\n",
       "      <td>4,25</td>\n",
       "      <td>9.008.500</td>\n",
       "      <td>40.201.000</td>\n",
       "      <td>Australia (27.240.000)</td>\n",
       "      <td>Sídney (6.550.000)</td>\n",
       "    </tr>\n",
       "    <tr>\n",
       "      <th>5</th>\n",
       "      <td>NaN</td>\n",
       "      <td>NaN</td>\n",
       "      <td>NaN</td>\n",
       "      <td>NaN</td>\n",
       "      <td>NaN</td>\n",
       "      <td>NaN</td>\n",
       "    </tr>\n",
       "    <tr>\n",
       "      <th>6</th>\n",
       "      <td>NaN</td>\n",
       "      <td>NaN</td>\n",
       "      <td>NaN</td>\n",
       "      <td>NaN</td>\n",
       "      <td>NaN</td>\n",
       "      <td>NaN</td>\n",
       "    </tr>\n",
       "    <tr>\n",
       "      <th>7</th>\n",
       "      <td>NaN</td>\n",
       "      <td>NaN</td>\n",
       "      <td>NaN</td>\n",
       "      <td>NaN</td>\n",
       "      <td>NaN</td>\n",
       "      <td>NaN</td>\n",
       "    </tr>\n",
       "    <tr>\n",
       "      <th>8</th>\n",
       "      <td>NaN</td>\n",
       "      <td>NaN</td>\n",
       "      <td>NaN</td>\n",
       "      <td>NaN</td>\n",
       "      <td>NaN</td>\n",
       "      <td>NaN</td>\n",
       "    </tr>\n",
       "  </tbody>\n",
       "</table>\n",
       "</div>"
      ],
      "text/plain": [
       "  Continente Densidad  Superficie      Población  \\\n",
       "0       Asia    86,88  43.810.000  4.677.291.000   \n",
       "1     África     32,7  30.370.000  1.110.020.000   \n",
       "2     Europa       70  10.180.000    801.000.000   \n",
       "3    América     23,5  42.330.000  1.094.215.000   \n",
       "4    Oceanía     4,25   9.008.500     40.201.000   \n",
       "5        NaN      NaN         NaN            NaN   \n",
       "6        NaN      NaN         NaN            NaN   \n",
       "7        NaN      NaN         NaN            NaN   \n",
       "8        NaN      NaN         NaN            NaN   \n",
       "\n",
       "               País más poblado             Ciudad más poblada  \n",
       "0         China (1.392.240.000)             Tokio (35.682.000)  \n",
       "1         Nigeria (191.205.000)          El Cairo (16.794.000)  \n",
       "2           Rusia (112.000.000)             Moscú (18.940.000)  \n",
       "3  Estados Unidos (330.028.000)  Ciudad de México (22.577.000)  \n",
       "4        Australia (27.240.000)             Sídney (6.550.000)  \n",
       "5                           NaN                            NaN  \n",
       "6                           NaN                            NaN  \n",
       "7                           NaN                            NaN  \n",
       "8                           NaN                            NaN  "
      ]
     },
     "execution_count": 25,
     "metadata": {},
     "output_type": "execute_result"
    }
   ],
   "source": [
    "datos"
   ]
  },
  {
   "cell_type": "code",
   "execution_count": 30,
   "metadata": {},
   "outputs": [
    {
     "data": {
      "text/plain": [
       "Index(['Continente', 'Densidad', 'Superficie', 'Población', 'País más poblado',\n",
       "       'Ciudad más poblada'],\n",
       "      dtype='object')"
      ]
     },
     "execution_count": 30,
     "metadata": {},
     "output_type": "execute_result"
    }
   ],
   "source": [
    "datos.columns"
   ]
  },
  {
   "cell_type": "code",
   "execution_count": 31,
   "metadata": {},
   "outputs": [
    {
     "data": {
      "text/html": [
       "<div>\n",
       "<style scoped>\n",
       "    .dataframe tbody tr th:only-of-type {\n",
       "        vertical-align: middle;\n",
       "    }\n",
       "\n",
       "    .dataframe tbody tr th {\n",
       "        vertical-align: top;\n",
       "    }\n",
       "\n",
       "    .dataframe thead th {\n",
       "        text-align: right;\n",
       "    }\n",
       "</style>\n",
       "<table border=\"1\" class=\"dataframe\">\n",
       "  <thead>\n",
       "    <tr style=\"text-align: right;\">\n",
       "      <th></th>\n",
       "      <th>Continente</th>\n",
       "      <th>Densidad</th>\n",
       "      <th>Superficie</th>\n",
       "      <th>Población</th>\n",
       "      <th>País más poblado</th>\n",
       "      <th>Ciudad más poblada</th>\n",
       "    </tr>\n",
       "  </thead>\n",
       "  <tbody>\n",
       "    <tr>\n",
       "      <th>0</th>\n",
       "      <td>Asia</td>\n",
       "      <td>86,88</td>\n",
       "      <td>43.810.000</td>\n",
       "      <td>4.677.291.000</td>\n",
       "      <td>China (1.392.240.000)</td>\n",
       "      <td>Tokio (35.682.000)</td>\n",
       "    </tr>\n",
       "  </tbody>\n",
       "</table>\n",
       "</div>"
      ],
      "text/plain": [
       "  Continente Densidad  Superficie      Población       País más poblado  \\\n",
       "0       Asia    86,88  43.810.000  4.677.291.000  China (1.392.240.000)   \n",
       "\n",
       "   Ciudad más poblada  \n",
       "0  Tokio (35.682.000)  "
      ]
     },
     "execution_count": 31,
     "metadata": {},
     "output_type": "execute_result"
    }
   ],
   "source": [
    "datos.head(1)"
   ]
  },
  {
   "cell_type": "code",
   "execution_count": 38,
   "metadata": {},
   "outputs": [
    {
     "data": {
      "text/html": [
       "<div>\n",
       "<style scoped>\n",
       "    .dataframe tbody tr th:only-of-type {\n",
       "        vertical-align: middle;\n",
       "    }\n",
       "\n",
       "    .dataframe tbody tr th {\n",
       "        vertical-align: top;\n",
       "    }\n",
       "\n",
       "    .dataframe thead th {\n",
       "        text-align: right;\n",
       "    }\n",
       "</style>\n",
       "<table border=\"1\" class=\"dataframe\">\n",
       "  <thead>\n",
       "    <tr style=\"text-align: right;\">\n",
       "      <th></th>\n",
       "      <th>Continente</th>\n",
       "      <th>Población</th>\n",
       "    </tr>\n",
       "  </thead>\n",
       "  <tbody>\n",
       "    <tr>\n",
       "      <th>0</th>\n",
       "      <td>Asia</td>\n",
       "      <td>4.677.291.000</td>\n",
       "    </tr>\n",
       "    <tr>\n",
       "      <th>1</th>\n",
       "      <td>África</td>\n",
       "      <td>1.110.020.000</td>\n",
       "    </tr>\n",
       "    <tr>\n",
       "      <th>2</th>\n",
       "      <td>Europa</td>\n",
       "      <td>801.000.000</td>\n",
       "    </tr>\n",
       "    <tr>\n",
       "      <th>3</th>\n",
       "      <td>América</td>\n",
       "      <td>1.094.215.000</td>\n",
       "    </tr>\n",
       "    <tr>\n",
       "      <th>4</th>\n",
       "      <td>Oceanía</td>\n",
       "      <td>40.201.000</td>\n",
       "    </tr>\n",
       "    <tr>\n",
       "      <th>5</th>\n",
       "      <td>NaN</td>\n",
       "      <td>NaN</td>\n",
       "    </tr>\n",
       "    <tr>\n",
       "      <th>6</th>\n",
       "      <td>NaN</td>\n",
       "      <td>NaN</td>\n",
       "    </tr>\n",
       "    <tr>\n",
       "      <th>7</th>\n",
       "      <td>NaN</td>\n",
       "      <td>NaN</td>\n",
       "    </tr>\n",
       "    <tr>\n",
       "      <th>8</th>\n",
       "      <td>NaN</td>\n",
       "      <td>NaN</td>\n",
       "    </tr>\n",
       "  </tbody>\n",
       "</table>\n",
       "</div>"
      ],
      "text/plain": [
       "  Continente      Población\n",
       "0       Asia  4.677.291.000\n",
       "1     África  1.110.020.000\n",
       "2     Europa    801.000.000\n",
       "3    América  1.094.215.000\n",
       "4    Oceanía     40.201.000\n",
       "5        NaN            NaN\n",
       "6        NaN            NaN\n",
       "7        NaN            NaN\n",
       "8        NaN            NaN"
      ]
     },
     "execution_count": 38,
     "metadata": {},
     "output_type": "execute_result"
    }
   ],
   "source": [
    "datos[['Continente','Población']]"
   ]
  },
  {
   "cell_type": "code",
   "execution_count": 39,
   "metadata": {},
   "outputs": [
    {
     "data": {
      "text/html": [
       "<div>\n",
       "<style scoped>\n",
       "    .dataframe tbody tr th:only-of-type {\n",
       "        vertical-align: middle;\n",
       "    }\n",
       "\n",
       "    .dataframe tbody tr th {\n",
       "        vertical-align: top;\n",
       "    }\n",
       "\n",
       "    .dataframe thead th {\n",
       "        text-align: right;\n",
       "    }\n",
       "</style>\n",
       "<table border=\"1\" class=\"dataframe\">\n",
       "  <thead>\n",
       "    <tr style=\"text-align: right;\">\n",
       "      <th></th>\n",
       "      <th>Continente</th>\n",
       "      <th>Densidad</th>\n",
       "      <th>Superficie</th>\n",
       "      <th>Población</th>\n",
       "      <th>País más poblado</th>\n",
       "      <th>Ciudad más poblada</th>\n",
       "    </tr>\n",
       "  </thead>\n",
       "  <tbody>\n",
       "    <tr>\n",
       "      <th>0</th>\n",
       "      <td>Asia</td>\n",
       "      <td>86,88</td>\n",
       "      <td>43.810.000</td>\n",
       "      <td>4.677.291.000</td>\n",
       "      <td>China (1.392.240.000)</td>\n",
       "      <td>Tokio (35.682.000)</td>\n",
       "    </tr>\n",
       "    <tr>\n",
       "      <th>1</th>\n",
       "      <td>África</td>\n",
       "      <td>32,7</td>\n",
       "      <td>30.370.000</td>\n",
       "      <td>1.110.020.000</td>\n",
       "      <td>Nigeria (191.205.000)</td>\n",
       "      <td>El Cairo (16.794.000)</td>\n",
       "    </tr>\n",
       "    <tr>\n",
       "      <th>2</th>\n",
       "      <td>Europa</td>\n",
       "      <td>70</td>\n",
       "      <td>10.180.000</td>\n",
       "      <td>801.000.000</td>\n",
       "      <td>Rusia (112.000.000)</td>\n",
       "      <td>Moscú (18.940.000)</td>\n",
       "    </tr>\n",
       "  </tbody>\n",
       "</table>\n",
       "</div>"
      ],
      "text/plain": [
       "  Continente Densidad  Superficie      Población       País más poblado  \\\n",
       "0       Asia    86,88  43.810.000  4.677.291.000  China (1.392.240.000)   \n",
       "1     África     32,7  30.370.000  1.110.020.000  Nigeria (191.205.000)   \n",
       "2     Europa       70  10.180.000    801.000.000    Rusia (112.000.000)   \n",
       "\n",
       "      Ciudad más poblada  \n",
       "0     Tokio (35.682.000)  \n",
       "1  El Cairo (16.794.000)  \n",
       "2     Moscú (18.940.000)  "
      ]
     },
     "execution_count": 39,
     "metadata": {},
     "output_type": "execute_result"
    }
   ],
   "source": [
    "datos.head(3)"
   ]
  },
  {
   "cell_type": "code",
   "execution_count": 42,
   "metadata": {},
   "outputs": [
    {
     "data": {
      "text/html": [
       "<div>\n",
       "<style scoped>\n",
       "    .dataframe tbody tr th:only-of-type {\n",
       "        vertical-align: middle;\n",
       "    }\n",
       "\n",
       "    .dataframe tbody tr th {\n",
       "        vertical-align: top;\n",
       "    }\n",
       "\n",
       "    .dataframe thead th {\n",
       "        text-align: right;\n",
       "    }\n",
       "</style>\n",
       "<table border=\"1\" class=\"dataframe\">\n",
       "  <thead>\n",
       "    <tr style=\"text-align: right;\">\n",
       "      <th></th>\n",
       "      <th>Continente</th>\n",
       "      <th>Densidad</th>\n",
       "      <th>Superficie</th>\n",
       "      <th>Población</th>\n",
       "      <th>País más poblado</th>\n",
       "      <th>Ciudad más poblada</th>\n",
       "    </tr>\n",
       "  </thead>\n",
       "  <tbody>\n",
       "    <tr>\n",
       "      <th>8</th>\n",
       "      <td>NaN</td>\n",
       "      <td>NaN</td>\n",
       "      <td>NaN</td>\n",
       "      <td>NaN</td>\n",
       "      <td>NaN</td>\n",
       "      <td>NaN</td>\n",
       "    </tr>\n",
       "  </tbody>\n",
       "</table>\n",
       "</div>"
      ],
      "text/plain": [
       "  Continente Densidad Superficie Población País más poblado Ciudad más poblada\n",
       "8        NaN      NaN        NaN       NaN              NaN                NaN"
      ]
     },
     "execution_count": 42,
     "metadata": {},
     "output_type": "execute_result"
    }
   ],
   "source": [
    "datos.tail(1)"
   ]
  },
  {
   "cell_type": "code",
   "execution_count": null,
   "metadata": {},
   "outputs": [],
   "source": []
  },
  {
   "cell_type": "code",
   "execution_count": 43,
   "metadata": {},
   "outputs": [],
   "source": [
    "### Otra solución (la del curso), abriendo el Excel y copiando la tabla "
   ]
  },
  {
   "cell_type": "code",
   "execution_count": 44,
   "metadata": {},
   "outputs": [],
   "source": [
    "datos2 = pd.read_clipboard()"
   ]
  },
  {
   "cell_type": "code",
   "execution_count": 45,
   "metadata": {},
   "outputs": [
    {
     "data": {
      "text/html": [
       "<div>\n",
       "<style scoped>\n",
       "    .dataframe tbody tr th:only-of-type {\n",
       "        vertical-align: middle;\n",
       "    }\n",
       "\n",
       "    .dataframe tbody tr th {\n",
       "        vertical-align: top;\n",
       "    }\n",
       "\n",
       "    .dataframe thead th {\n",
       "        text-align: right;\n",
       "    }\n",
       "</style>\n",
       "<table border=\"1\" class=\"dataframe\">\n",
       "  <thead>\n",
       "    <tr style=\"text-align: right;\">\n",
       "      <th></th>\n",
       "      <th>Continente</th>\n",
       "      <th>Densidad</th>\n",
       "      <th>Superficie</th>\n",
       "      <th>Población</th>\n",
       "      <th>País más poblado</th>\n",
       "      <th>Ciudad más poblada</th>\n",
       "    </tr>\n",
       "  </thead>\n",
       "  <tbody>\n",
       "    <tr>\n",
       "      <th>0</th>\n",
       "      <td>Asia</td>\n",
       "      <td>86,88</td>\n",
       "      <td>43.810.000</td>\n",
       "      <td>4.677.291.000</td>\n",
       "      <td>China (1.392.240.000)</td>\n",
       "      <td>Tokio (35.682.000)</td>\n",
       "    </tr>\n",
       "    <tr>\n",
       "      <th>1</th>\n",
       "      <td>África</td>\n",
       "      <td>32,7</td>\n",
       "      <td>30.370.000</td>\n",
       "      <td>1.110.020.000</td>\n",
       "      <td>Nigeria (191.205.000)</td>\n",
       "      <td>El Cairo (16.794.000)</td>\n",
       "    </tr>\n",
       "    <tr>\n",
       "      <th>2</th>\n",
       "      <td>Europa</td>\n",
       "      <td>70</td>\n",
       "      <td>10.180.000</td>\n",
       "      <td>801.000.000</td>\n",
       "      <td>Rusia (112.000.000)</td>\n",
       "      <td>Moscú (18.940.000)</td>\n",
       "    </tr>\n",
       "    <tr>\n",
       "      <th>3</th>\n",
       "      <td>América</td>\n",
       "      <td>23,5</td>\n",
       "      <td>42.330.000</td>\n",
       "      <td>1.094.215.000</td>\n",
       "      <td>Estados Unidos (330.028.000)</td>\n",
       "      <td>Ciudad de México (22.577.000)</td>\n",
       "    </tr>\n",
       "    <tr>\n",
       "      <th>4</th>\n",
       "      <td>Oceanía</td>\n",
       "      <td>4,25</td>\n",
       "      <td>9.008.500</td>\n",
       "      <td>40.201.000</td>\n",
       "      <td>Australia (27.240.000)</td>\n",
       "      <td>Sídney (6.550.000)</td>\n",
       "    </tr>\n",
       "  </tbody>\n",
       "</table>\n",
       "</div>"
      ],
      "text/plain": [
       "  Continente Densidad  Superficie      Población  \\\n",
       "0       Asia    86,88  43.810.000  4.677.291.000   \n",
       "1     África     32,7  30.370.000  1.110.020.000   \n",
       "2     Europa       70  10.180.000    801.000.000   \n",
       "3    América     23,5  42.330.000  1.094.215.000   \n",
       "4    Oceanía     4,25   9.008.500     40.201.000   \n",
       "\n",
       "               País más poblado             Ciudad más poblada  \n",
       "0         China (1.392.240.000)             Tokio (35.682.000)  \n",
       "1         Nigeria (191.205.000)          El Cairo (16.794.000)  \n",
       "2           Rusia (112.000.000)             Moscú (18.940.000)  \n",
       "3  Estados Unidos (330.028.000)  Ciudad de México (22.577.000)  \n",
       "4        Australia (27.240.000)             Sídney (6.550.000)  "
      ]
     },
     "execution_count": 45,
     "metadata": {},
     "output_type": "execute_result"
    }
   ],
   "source": [
    "datos2"
   ]
  },
  {
   "cell_type": "code",
   "execution_count": null,
   "metadata": {},
   "outputs": [],
   "source": []
  }
 ],
 "metadata": {
  "kernelspec": {
   "display_name": "Python 3",
   "language": "python",
   "name": "python3"
  },
  "language_info": {
   "codemirror_mode": {
    "name": "ipython",
    "version": 3
   },
   "file_extension": ".py",
   "mimetype": "text/x-python",
   "name": "python",
   "nbconvert_exporter": "python",
   "pygments_lexer": "ipython3",
   "version": "3.8.5"
  }
 },
 "nbformat": 4,
 "nbformat_minor": 4
}
