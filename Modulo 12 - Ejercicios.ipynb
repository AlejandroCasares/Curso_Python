{
 "cells": [
  {
   "cell_type": "markdown",
   "metadata": {},
   "source": [
    "# Modulo 12: Ejercicios"
   ]
  },
  {
   "cell_type": "markdown",
   "metadata": {},
   "source": [
    "### Enunciado 1\n",
    "\n",
    "Crea un diccionario con los siguientes pares de valores:\n",
    "    \n",
    "    manzana - apple\n",
    "    naranja - orange\n",
    "    platano - banana\n",
    "    limon - lemon\n",
    "    \n",
    "Muestra la traducción de la palabra naranja\n",
    "\n",
    "Añade un elemento nuevo con piña - pineapple\n",
    "\n",
    "Haz un bucle para mostrar todos los elementos del diccionario"
   ]
  },
  {
   "cell_type": "code",
   "execution_count": 1,
   "metadata": {},
   "outputs": [],
   "source": [
    "diccionario = {\"manzana\":\"apple\",\"naranja\":\"orange\",\"platano\":\"banana\",\"limon\":\"lemon\"}"
   ]
  },
  {
   "cell_type": "code",
   "execution_count": 2,
   "metadata": {},
   "outputs": [
    {
     "data": {
      "text/plain": [
       "'orange'"
      ]
     },
     "execution_count": 2,
     "metadata": {},
     "output_type": "execute_result"
    }
   ],
   "source": [
    "diccionario[\"naranja\"]"
   ]
  },
  {
   "cell_type": "code",
   "execution_count": 3,
   "metadata": {},
   "outputs": [],
   "source": [
    "diccionario[\"piña\"] = \"pineapple\""
   ]
  },
  {
   "cell_type": "code",
   "execution_count": 4,
   "metadata": {},
   "outputs": [
    {
     "name": "stdout",
     "output_type": "stream",
     "text": [
      "manzana\n",
      "naranja\n",
      "platano\n",
      "limon\n",
      "piña\n"
     ]
    }
   ],
   "source": [
    "for fruta in diccionario:\n",
    "    print(fruta)"
   ]
  },
  {
   "cell_type": "code",
   "execution_count": 5,
   "metadata": {},
   "outputs": [],
   "source": [
    "#Si queremos su clave-valor:"
   ]
  },
  {
   "cell_type": "code",
   "execution_count": 9,
   "metadata": {},
   "outputs": [
    {
     "name": "stdout",
     "output_type": "stream",
     "text": [
      "manzana - apple\n",
      "naranja - orange\n",
      "platano - banana\n",
      "limon - lemon\n",
      "piña - pineapple\n"
     ]
    }
   ],
   "source": [
    "for clave,valor in diccionario.items():\n",
    "    print(clave,\"-\",valor)"
   ]
  },
  {
   "cell_type": "code",
   "execution_count": null,
   "metadata": {},
   "outputs": [],
   "source": []
  },
  {
   "cell_type": "markdown",
   "metadata": {},
   "source": [
    "### Enunciado 2\n",
    "\n",
    "Crear una variable \"nota\" que tenga el valor 4.5\n",
    "\n",
    "Crear una variable \"trabajo_realizado\" que tengo el valor \"Si\"\n",
    "\n",
    "Calcular el valor de la variable \"nota_final\", teiendo en cuenta que:\n",
    "\n",
    "* Si la nota final es mayor o igual a 4 y el valor de \"trabajo_realizado\" es si, entonces la nota será aprobado\n",
    "* En caso contrario, será suspenso"
   ]
  },
  {
   "cell_type": "code",
   "execution_count": 10,
   "metadata": {},
   "outputs": [],
   "source": [
    "nota = 4.5\n",
    "trabajo_realizado = \"Si\""
   ]
  },
  {
   "cell_type": "code",
   "execution_count": 16,
   "metadata": {},
   "outputs": [],
   "source": [
    "if(nota>=4) and (trabajo_realizado == \"Si\"):\n",
    "    nota_final = \"aprobado\"\n",
    "else:\n",
    "    nota_final = \"suspenso\""
   ]
  },
  {
   "cell_type": "code",
   "execution_count": 17,
   "metadata": {},
   "outputs": [
    {
     "data": {
      "text/plain": [
       "'aprobado'"
      ]
     },
     "execution_count": 17,
     "metadata": {},
     "output_type": "execute_result"
    }
   ],
   "source": [
    "nota_final"
   ]
  },
  {
   "cell_type": "code",
   "execution_count": null,
   "metadata": {},
   "outputs": [],
   "source": []
  },
  {
   "cell_type": "markdown",
   "metadata": {},
   "source": [
    "### Enunciado 3\n",
    "\n",
    "1. Crear una variable \"inicio\" con el valor 1\n",
    "2. Crear una variable \"fin\" con el valor 6\n",
    "3. Hacer un bucle while que muestre tantas filas como valores hay entre \"inicio\" y \"fin\"\n",
    "4. En cada iteración del bucle mostrar el texto \"Esta es la fila\" + el número de la fila en la que está"
   ]
  },
  {
   "cell_type": "code",
   "execution_count": 22,
   "metadata": {},
   "outputs": [
    {
     "name": "stdout",
     "output_type": "stream",
     "text": [
      "Esta es la fila 1\n",
      "Esta es la fila 2\n",
      "Esta es la fila 3\n",
      "Esta es la fila 4\n",
      "Esta es la fila 5\n",
      "Esta es la fila 6\n"
     ]
    }
   ],
   "source": [
    "inicio = 1\n",
    "fin = 6\n",
    "\n",
    "while inicio <= fin:\n",
    "    inicio +=1\n",
    "    print(\"Esta es la fila \" + str(inicio-1))\n"
   ]
  },
  {
   "cell_type": "code",
   "execution_count": null,
   "metadata": {},
   "outputs": [],
   "source": []
  }
 ],
 "metadata": {
  "kernelspec": {
   "display_name": "Python 3",
   "language": "python",
   "name": "python3"
  },
  "language_info": {
   "codemirror_mode": {
    "name": "ipython",
    "version": 3
   },
   "file_extension": ".py",
   "mimetype": "text/x-python",
   "name": "python",
   "nbconvert_exporter": "python",
   "pygments_lexer": "ipython3",
   "version": "3.8.5"
  }
 },
 "nbformat": 4,
 "nbformat_minor": 4
}
