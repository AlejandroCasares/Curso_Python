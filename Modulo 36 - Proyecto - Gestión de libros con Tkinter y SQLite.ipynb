{
 "cells": [
  {
   "cell_type": "markdown",
   "metadata": {},
   "source": [
    "# Modulo 36: Proyecto - Gestión de libros con Tkinter y SQLite\n",
    "\n",
    "Vamos a hacer una aplicación en Python con una interfaz gráfico con Tkinter que acceda a una base de datos en SQLite que nos permita buscar e incluir libros"
   ]
  },
  {
   "cell_type": "code",
   "execution_count": 13,
   "metadata": {},
   "outputs": [],
   "source": [
    "# Librerías importadas\n",
    "from tkinter import *\n",
    "import sqlite3"
   ]
  },
  {
   "cell_type": "code",
   "execution_count": 79,
   "metadata": {},
   "outputs": [],
   "source": [
    "#Definición de funciones\n",
    "\n",
    "def conectar():\n",
    "    conexion = sqlite3.connect('Libros.bd')\n",
    "    cursor = conexion.cursor()\n",
    "    cursor.execute('CREATE TABLE IF NOT EXISTS libros(id INTEGER PRIMARY KEY, titulo TEXT, autor TEXT, year INTEGER, isbn INTEGER)')\n",
    "    conexion.commit()\n",
    "    conexion.close()\n",
    "\n",
    "def insertar(titulo,autor,year,isbn):\n",
    "    conexion = sqlite3.connect('Libros.bd')\n",
    "    cursor = conexion.cursor()\n",
    "    cursor.execute('INSERT INTO libros values (NULL,?,?,?,?)',(titulo,autor,year,isbn))\n",
    "    conexion.commit()\n",
    "    conexion.close()\n",
    "    \n",
    "def visualizar():\n",
    "    conexion = sqlite3.connect('Libros.bd')\n",
    "    cursor = conexion.cursor()\n",
    "    cursor.execute('SELECT * FROM libros')\n",
    "    resultado = cursor.fetchall()\n",
    "    conexion.close() #No hace falta hacer el commit porque no hemos aplicado cambios, solo una consulta a la bd\n",
    "    return resultado\n",
    "\n",
    "def buscar(titulo,autor,year,isbn):\n",
    "    conexion = sqlite3.connect('Libros.bd')\n",
    "    cursor = conexion.cursor()\n",
    "    cursor.execute('SELECT * FROM libros where titulo = ? or autor = ? or year = ? or isbn = ?',(titulo,autor,year,isbn))\n",
    "    busqueda = cursor.fetchall()\n",
    "    conexion.close() #No hace falta hacer el commit porque no hemos aplicado cambios, solo una consulta a la bd\n",
    "    return busqueda\n",
    "\n",
    "def borrar(id):\n",
    "    conexion = sqlite3.connect('Libros.bd')\n",
    "    cursor = conexion.cursor()\n",
    "    cursor.execute('DELETE FROM libros WHERE id = ?',(id,))\n",
    "    conexion.commit()\n",
    "    conexion.close()\n",
    "\n",
    "def actualizar(titulo,autor,year,isbn,id):\n",
    "    conexion = sqlite3.connect('Libros.bd')\n",
    "    cursor = conexion.cursor()\n",
    "    cursor.execute('UPDATE libros SET titulo = ?, autor = ?, year = ?, isbn = ? WHERE id = ?',(titulo,autor,year,isbn,id))\n",
    "    conexion.commit()\n",
    "    conexion.close()\n"
   ]
  },
  {
   "cell_type": "code",
   "execution_count": 89,
   "metadata": {},
   "outputs": [],
   "source": [
    "#Definimos funciones para los botones de la interfaz\n",
    "\n",
    "def comando_visualizar():\n",
    "    lista.delete(0,END)\n",
    "    lista_libros = visualizar()\n",
    "    for libro in lista_libros:\n",
    "        lista.insert(END,libro)\n",
    "\n",
    "def comando_buscar():\n",
    "    lista.delete(0,END)\n",
    "    lista_libros = buscar(titulo.get(),autor.get(),año.get(),isbn.get())\n",
    "    for libro in lista_libros:\n",
    "        lista.insert(END,libro)\n",
    "\n",
    "def comando_insertar():\n",
    "    lista.delete(0,END)\n",
    "    insertar(titulo.get(),autor.get(),año.get(),isbn.get())\n",
    "    lista.insert(END,(titulo.get(),autor.get(),año.get(),isbn.get()))\n",
    "\n",
    "def recoger_fila_seleccionada(event):\n",
    "    try:\n",
    "        global libro_seleccionado\n",
    "        indice = lista.curselection()[0]\n",
    "        libro_seleccionado = lista.get(indice)\n",
    "        entrada1.delete(0,END)\n",
    "        entrada1.insert(END,libro_seleccionado[1])\n",
    "        entrada2.delete(0,END)\n",
    "        entrada2.insert(END,libro_seleccionado[2])\n",
    "        entrada3.delete(0,END)\n",
    "        entrada3.insert(END,libro_seleccionado[3])\n",
    "        entrada4.delete(0,END)\n",
    "        entrada4.insert(END,libro_seleccionado[4])\n",
    "    except IndexError:\n",
    "        pass \n",
    "    \n",
    "def comando_actualizar():\n",
    "    actualizar(titulo.get(),autor.get(),año.get(),isbn.get(),libro_seleccionado[0])\n",
    "    lista.delete(0,END)\n",
    "    lista.insert(END,'Libro actualizado correctamente')\n",
    "\n",
    "def comando_borrar():\n",
    "    borrar(libro_seleccionado[0])\n",
    "    lista.delete(0,END)\n",
    "    lista.insert(END,'Libro borrado correctamente')\n",
    "\n",
    "def comando_cerrar():\n",
    "    ventana.destroy()"
   ]
  },
  {
   "cell_type": "code",
   "execution_count": 90,
   "metadata": {},
   "outputs": [],
   "source": [
    "#Definimos la portada de la interfaz\n",
    "\n",
    "ventana = Tk()\n",
    "ventana.title('Libros')\n",
    "\n",
    "#Creamos las etiquetas\n",
    "etiqueta1 = Label(ventana,text='Titulo')\n",
    "etiqueta1.grid(row = 0, column = 0)\n",
    "\n",
    "etiqueta2 = Label(ventana,text='Autor')\n",
    "etiqueta2.grid(row = 0, column = 2)\n",
    "\n",
    "etiqueta3 = Label(ventana,text='Año')\n",
    "etiqueta3.grid(row = 1, column = 0)\n",
    "\n",
    "etiqueta4 = Label(ventana,text='ISBN')\n",
    "etiqueta4.grid(row = 1, column = 2)\n",
    "\n",
    "#Añadimos la entrada de datos\n",
    "\n",
    "titulo = StringVar()\n",
    "entrada1 = Entry(ventana,textvariable=titulo)\n",
    "entrada1.grid(row=0,column = 1)\n",
    "\n",
    "autor = StringVar()\n",
    "entrada2 = Entry(ventana,textvariable=autor)\n",
    "entrada2.grid(row=0,column = 3)\n",
    "\n",
    "año = StringVar()\n",
    "entrada3 = Entry(ventana,textvariable=año)\n",
    "entrada3.grid(row=1,column = 1)\n",
    "\n",
    "isbn = StringVar()\n",
    "entrada4 = Entry(ventana,textvariable=isbn)\n",
    "entrada4.grid(row=1,column = 3)\n",
    "\n",
    "\n",
    "#Lista y scrollbar\n",
    "lista = Listbox(ventana,height=8, width = 25)\n",
    "lista.grid(row = 2, column=0, rowspan=6, columnspan = 2)\n",
    "\n",
    "scrollbar = Scrollbar(ventana)\n",
    "scrollbar.grid(row = 2, column = 2, rowspan = 6)\n",
    "lista.configure(yscrollcommand=scrollbar.set)\n",
    "scrollbar.configure(command = lista.yview)\n",
    "\n",
    "#Incluimos un evento a la lista (recoger los valores cuando marquemos un elemento)\n",
    "lista.bind('<<ListboxSelect>>',recoger_fila_seleccionada)\n",
    "\n",
    "#Botones\n",
    "\n",
    "boton1 = Button(ventana, text='Visualizar',width=12, command=comando_visualizar)\n",
    "boton1.grid(row=2, column = 3)\n",
    "\n",
    "boton2 = Button(ventana, text='Buscar',width=12, command = comando_buscar)\n",
    "boton2.grid(row=3, column = 3)\n",
    "\n",
    "boton3 = Button(ventana, text='Añadir',width=12, command = comando_insertar)\n",
    "boton3.grid(row=4, column = 3)\n",
    "\n",
    "boton4 = Button(ventana, text='Actualizar',width=12, command = comando_actualizar)\n",
    "boton4.grid(row=5, column = 3)\n",
    "\n",
    "boton5 = Button(ventana, text='Borrar',width=12, command = comando_borrar)\n",
    "boton5.grid(row=6, column = 3)\n",
    "\n",
    "boton6 = Button(ventana, text='Cerrar',width=12, command = comando_cerrar)\n",
    "boton6.grid(row=7, column = 3)\n",
    "\n",
    "ventana.mainloop()"
   ]
  },
  {
   "cell_type": "code",
   "execution_count": 40,
   "metadata": {},
   "outputs": [],
   "source": [
    "conectar()"
   ]
  },
  {
   "cell_type": "code",
   "execution_count": 41,
   "metadata": {},
   "outputs": [],
   "source": [
    "insertar('titulo1','autor1',2001,4444333221)\n",
    "insertar('titulo2','autor2',2001,4444333222)\n",
    "insertar('titulo3','autor3',2001,4444333223)\n",
    "insertar('titulo4','autor4',2001,4444333224)"
   ]
  },
  {
   "cell_type": "code",
   "execution_count": 53,
   "metadata": {},
   "outputs": [],
   "source": [
    "insertar('titulo4','autor4',2010,4444333224)"
   ]
  },
  {
   "cell_type": "code",
   "execution_count": 42,
   "metadata": {},
   "outputs": [],
   "source": [
    "resultados = visualizar()"
   ]
  },
  {
   "cell_type": "code",
   "execution_count": 43,
   "metadata": {},
   "outputs": [
    {
     "name": "stdout",
     "output_type": "stream",
     "text": [
      "(1, 'titulo1', 'autor1', 2001, 4444333221)\n",
      "(2, 'titulo2', 'autor2', 2001, 4444333222)\n",
      "(3, 'titulo3', 'autor3', 2001, 4444333223)\n",
      "(4, 'titulo4', 'autor4', 2001, 4444333224)\n"
     ]
    }
   ],
   "source": [
    "for resultado in resultados:\n",
    "    print(resultado)"
   ]
  },
  {
   "cell_type": "code",
   "execution_count": 56,
   "metadata": {},
   "outputs": [
    {
     "name": "stdout",
     "output_type": "stream",
     "text": [
      "(1, 'titulo1', 'autor1', 2001, 4444333221)\n"
     ]
    }
   ],
   "source": [
    "resultados = buscar('titulo1','',0,0)\n",
    "for resultado in resultados:\n",
    "    print(resultado)"
   ]
  },
  {
   "cell_type": "code",
   "execution_count": 57,
   "metadata": {},
   "outputs": [
    {
     "name": "stdout",
     "output_type": "stream",
     "text": [
      "(5, 'titulo4', 'autor4', 2010, 4444333224)\n"
     ]
    }
   ],
   "source": [
    "resultados = buscar('','',2010,10)\n",
    "for resultado in resultados:\n",
    "    print(resultado)"
   ]
  },
  {
   "cell_type": "code",
   "execution_count": 61,
   "metadata": {},
   "outputs": [],
   "source": [
    "borrar(2)"
   ]
  },
  {
   "cell_type": "code",
   "execution_count": 62,
   "metadata": {},
   "outputs": [
    {
     "name": "stdout",
     "output_type": "stream",
     "text": [
      "(1, 'titulo1', 'autor1', 2001, 4444333221)\n",
      "(3, 'titulo3', 'autor3', 2001, 4444333223)\n",
      "(4, 'titulo4', 'autor4', 2001, 4444333224)\n",
      "(5, 'titulo4', 'autor4', 2010, 4444333224)\n"
     ]
    }
   ],
   "source": [
    "resultados = visualizar()\n",
    "for resultado in resultados:\n",
    "    print(resultado)"
   ]
  },
  {
   "cell_type": "code",
   "execution_count": 66,
   "metadata": {},
   "outputs": [
    {
     "name": "stdout",
     "output_type": "stream",
     "text": [
      "(1, 'titulo1', 'autor1', 2001, 4444333221)\n",
      "(3, 'titulo4', 'Federico', 2005, 4444333112)\n",
      "(4, 'titulo4', 'autor4', 2001, 4444333224)\n",
      "(5, 'titulo4', 'autor4', 2010, 4444333224)\n"
     ]
    }
   ],
   "source": [
    "actualizar(titulo='titulo4',autor='Federico',year='2005',isbn='4444333112',id=3) #Actualizará esos valores en el registro con id = 3\n",
    "resultados = visualizar()\n",
    "for resultado in resultados:\n",
    "    print(resultado)"
   ]
  },
  {
   "cell_type": "code",
   "execution_count": null,
   "metadata": {},
   "outputs": [],
   "source": []
  }
 ],
 "metadata": {
  "kernelspec": {
   "display_name": "Python 3",
   "language": "python",
   "name": "python3"
  },
  "language_info": {
   "codemirror_mode": {
    "name": "ipython",
    "version": 3
   },
   "file_extension": ".py",
   "mimetype": "text/x-python",
   "name": "python",
   "nbconvert_exporter": "python",
   "pygments_lexer": "ipython3",
   "version": "3.8.5"
  }
 },
 "nbformat": 4,
 "nbformat_minor": 4
}
