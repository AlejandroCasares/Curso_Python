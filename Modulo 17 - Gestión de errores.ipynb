{
 "cells": [
  {
   "cell_type": "markdown",
   "metadata": {},
   "source": [
    "# Modulo 17: Gestión de errores\n",
    "\n",
    "### try\n",
    "Permite verificar si un bloque de código contiene errores"
   ]
  },
  {
   "cell_type": "code",
   "execution_count": 1,
   "metadata": {},
   "outputs": [
    {
     "ename": "ZeroDivisionError",
     "evalue": "division by zero",
     "output_type": "error",
     "traceback": [
      "\u001b[0;31m---------------------------------------------------------------------------\u001b[0m",
      "\u001b[0;31mZeroDivisionError\u001b[0m                         Traceback (most recent call last)",
      "\u001b[0;32m<ipython-input-1-5e57038d8cf1>\u001b[0m in \u001b[0;36m<module>\u001b[0;34m\u001b[0m\n\u001b[1;32m      1\u001b[0m \u001b[0mnumero1\u001b[0m \u001b[0;34m=\u001b[0m \u001b[0;36m5\u001b[0m\u001b[0;34m\u001b[0m\u001b[0;34m\u001b[0m\u001b[0m\n\u001b[1;32m      2\u001b[0m \u001b[0mnumero2\u001b[0m \u001b[0;34m=\u001b[0m \u001b[0;36m0\u001b[0m\u001b[0;34m\u001b[0m\u001b[0;34m\u001b[0m\u001b[0m\n\u001b[0;32m----> 3\u001b[0;31m \u001b[0mdivision\u001b[0m \u001b[0;34m=\u001b[0m \u001b[0mnumero1\u001b[0m\u001b[0;34m/\u001b[0m\u001b[0mnumero2\u001b[0m\u001b[0;34m\u001b[0m\u001b[0;34m\u001b[0m\u001b[0m\n\u001b[0m",
      "\u001b[0;31mZeroDivisionError\u001b[0m: division by zero"
     ]
    }
   ],
   "source": [
    "numero1 = 5\n",
    "numero2 = 0\n",
    "division = numero1/numero2"
   ]
  },
  {
   "cell_type": "code",
   "execution_count": 2,
   "metadata": {},
   "outputs": [],
   "source": [
    "#Error por dividir entre 0. Para que en nuestro código no salgan errores usamos try:"
   ]
  },
  {
   "cell_type": "code",
   "execution_count": 4,
   "metadata": {},
   "outputs": [
    {
     "name": "stdout",
     "output_type": "stream",
     "text": [
      "Ha habido un error\n"
     ]
    }
   ],
   "source": [
    "try:\n",
    "    numero1 = 5\n",
    "    numero2 = 0\n",
    "    division = numero1/numero2\n",
    "    print(division)\n",
    "except:                         #Si hay algún error, no da error, sino que muestra lo que escribamos ahora\n",
    "    print(\"Ha habido un error\")"
   ]
  },
  {
   "cell_type": "code",
   "execution_count": 6,
   "metadata": {},
   "outputs": [
    {
     "name": "stdout",
     "output_type": "stream",
     "text": [
      "2.5\n"
     ]
    }
   ],
   "source": [
    "try:\n",
    "    numero1 = 5\n",
    "    numero2 = 2\n",
    "    division = numero1/numero2\n",
    "    print(division)\n",
    "except:                         #Si el codigo esta bien y no hay error, no hace nada con el except\n",
    "    print(\"Ha habido un error\")"
   ]
  },
  {
   "cell_type": "code",
   "execution_count": 9,
   "metadata": {},
   "outputs": [
    {
     "name": "stdout",
     "output_type": "stream",
     "text": [
      "Error, división entre0\n"
     ]
    }
   ],
   "source": [
    "try:\n",
    "    numero1 = 5\n",
    "    numero2 = 0\n",
    "    division = numero1/numero2\n",
    "    print(division)\n",
    "\n",
    "except ZeroDivisionError:\n",
    "    print(\"Error, división entre0\")\n",
    "except:                         \n",
    "    print(\"Ha habido un error\")"
   ]
  },
  {
   "cell_type": "code",
   "execution_count": 10,
   "metadata": {},
   "outputs": [
    {
     "name": "stdout",
     "output_type": "stream",
     "text": [
      "Ha habido un error\n"
     ]
    }
   ],
   "source": [
    "try:\n",
    "    numero1 = 5\n",
    "    numero2 = \"a\"\n",
    "    division = numero1/numero2\n",
    "    print(division)\n",
    "\n",
    "except ZeroDivisionError:\n",
    "    print(\"Error, división entre0\")\n",
    "except:                         \n",
    "    print(\"Ha habido un error\")"
   ]
  },
  {
   "cell_type": "code",
   "execution_count": 11,
   "metadata": {},
   "outputs": [
    {
     "name": "stdout",
     "output_type": "stream",
     "text": [
      "2.5\n",
      "La división funcionío correctamente\n"
     ]
    }
   ],
   "source": [
    "try:\n",
    "    numero1 = 5\n",
    "    numero2 = 2\n",
    "    division = numero1/numero2\n",
    "    print(division)\n",
    "\n",
    "except ZeroDivisionError:\n",
    "    print(\"Error, división entre0\")\n",
    "except:                         \n",
    "    print(\"Ha habido un error\")\n",
    "else:\n",
    "    print(\"La división funcionío correctamente\")"
   ]
  },
  {
   "cell_type": "markdown",
   "metadata": {},
   "source": [
    "### finally\n",
    "Este modulo permite ejecutar algún código independientemente del resultado del try y del except "
   ]
  },
  {
   "cell_type": "code",
   "execution_count": 12,
   "metadata": {},
   "outputs": [
    {
     "name": "stdout",
     "output_type": "stream",
     "text": [
      "2.5\n",
      "La división funcionío correctamente\n",
      "El try se ha acabado\n"
     ]
    }
   ],
   "source": [
    "try:\n",
    "    numero1 = 5\n",
    "    numero2 = 2\n",
    "    division = numero1/numero2\n",
    "    print(division)\n",
    "\n",
    "except ZeroDivisionError:\n",
    "    print(\"Error, división entre 0\")\n",
    "except:                         \n",
    "    print(\"Ha habido un error\")\n",
    "else:\n",
    "    print(\"La división funcionío correctamente\")\n",
    "finally:\n",
    "    print(\"El try se ha acabado\")"
   ]
  },
  {
   "cell_type": "markdown",
   "metadata": {},
   "source": [
    "## Ejercicio\n",
    "\n",
    "Crear la función \"operacion\" que dados 3 números, divida el primer numero entre la resta de los otros dos numeros\n",
    "\n",
    "* Utilizar la función creada con los númeroes 5,4,2\n",
    "* Utilizar la función creada con los númeroes 6,3,3\n",
    "\n",
    "Utilizar el bloque try ... except para controlar cualquier posible error"
   ]
  },
  {
   "cell_type": "code",
   "execution_count": 20,
   "metadata": {},
   "outputs": [],
   "source": [
    "def operacion(numero1,numero2,numero3):\n",
    "    división = numero1/(numero2-numero3)\n",
    "    print(división)"
   ]
  },
  {
   "cell_type": "code",
   "execution_count": 22,
   "metadata": {},
   "outputs": [
    {
     "name": "stdout",
     "output_type": "stream",
     "text": [
      "2.5\n"
     ]
    }
   ],
   "source": [
    "operacion(5,4,2)"
   ]
  },
  {
   "cell_type": "code",
   "execution_count": 23,
   "metadata": {},
   "outputs": [
    {
     "ename": "ZeroDivisionError",
     "evalue": "division by zero",
     "output_type": "error",
     "traceback": [
      "\u001b[0;31m---------------------------------------------------------------------------\u001b[0m",
      "\u001b[0;31mZeroDivisionError\u001b[0m                         Traceback (most recent call last)",
      "\u001b[0;32m<ipython-input-23-2136d8a462b8>\u001b[0m in \u001b[0;36m<module>\u001b[0;34m\u001b[0m\n\u001b[0;32m----> 1\u001b[0;31m \u001b[0moperacion\u001b[0m\u001b[0;34m(\u001b[0m\u001b[0;36m6\u001b[0m\u001b[0;34m,\u001b[0m\u001b[0;36m3\u001b[0m\u001b[0;34m,\u001b[0m\u001b[0;36m3\u001b[0m\u001b[0;34m)\u001b[0m\u001b[0;34m\u001b[0m\u001b[0;34m\u001b[0m\u001b[0m\n\u001b[0m",
      "\u001b[0;32m<ipython-input-20-ed027a096959>\u001b[0m in \u001b[0;36moperacion\u001b[0;34m(numero1, numero2, numero3)\u001b[0m\n\u001b[1;32m      1\u001b[0m \u001b[0;32mdef\u001b[0m \u001b[0moperacion\u001b[0m\u001b[0;34m(\u001b[0m\u001b[0mnumero1\u001b[0m\u001b[0;34m,\u001b[0m\u001b[0mnumero2\u001b[0m\u001b[0;34m,\u001b[0m\u001b[0mnumero3\u001b[0m\u001b[0;34m)\u001b[0m\u001b[0;34m:\u001b[0m\u001b[0;34m\u001b[0m\u001b[0;34m\u001b[0m\u001b[0m\n\u001b[0;32m----> 2\u001b[0;31m     \u001b[0mdivisión\u001b[0m \u001b[0;34m=\u001b[0m \u001b[0mnumero1\u001b[0m\u001b[0;34m/\u001b[0m\u001b[0;34m(\u001b[0m\u001b[0mnumero2\u001b[0m\u001b[0;34m-\u001b[0m\u001b[0mnumero3\u001b[0m\u001b[0;34m)\u001b[0m\u001b[0;34m\u001b[0m\u001b[0;34m\u001b[0m\u001b[0m\n\u001b[0m\u001b[1;32m      3\u001b[0m     \u001b[0mprint\u001b[0m\u001b[0;34m(\u001b[0m\u001b[0mdivisión\u001b[0m\u001b[0;34m)\u001b[0m\u001b[0;34m\u001b[0m\u001b[0;34m\u001b[0m\u001b[0m\n",
      "\u001b[0;31mZeroDivisionError\u001b[0m: division by zero"
     ]
    }
   ],
   "source": [
    "operacion(6,3,3)"
   ]
  },
  {
   "cell_type": "code",
   "execution_count": 27,
   "metadata": {},
   "outputs": [
    {
     "name": "stdout",
     "output_type": "stream",
     "text": [
      "Está dividiendo por 0\n"
     ]
    }
   ],
   "source": [
    "try:\n",
    "    resultado = operacion(6,3,3)\n",
    "    print(resultado)\n",
    "\n",
    "except ZeroDivisionError:\n",
    "    print(\"Está dividiendo por 0\")"
   ]
  },
  {
   "cell_type": "code",
   "execution_count": null,
   "metadata": {},
   "outputs": [],
   "source": []
  }
 ],
 "metadata": {
  "kernelspec": {
   "display_name": "Python 3",
   "language": "python",
   "name": "python3"
  },
  "language_info": {
   "codemirror_mode": {
    "name": "ipython",
    "version": 3
   },
   "file_extension": ".py",
   "mimetype": "text/x-python",
   "name": "python",
   "nbconvert_exporter": "python",
   "pygments_lexer": "ipython3",
   "version": "3.8.5"
  }
 },
 "nbformat": 4,
 "nbformat_minor": 4
}
