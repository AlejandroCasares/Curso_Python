{
 "cells": [
  {
   "cell_type": "markdown",
   "metadata": {},
   "source": [
    "# Modulo 15: Ficheros de texto"
   ]
  },
  {
   "cell_type": "markdown",
   "metadata": {},
   "source": [
    "### Leer Ficheros"
   ]
  },
  {
   "cell_type": "code",
   "execution_count": 17,
   "metadata": {},
   "outputs": [],
   "source": [
    "fichero = open(\"fichero_texto_ejemplo.txt\",\"rt\") #El fichero lo \"guardamos\"/cargamos en la variable \"fichero\""
   ]
  },
  {
   "cell_type": "code",
   "execution_count": 3,
   "metadata": {},
   "outputs": [],
   "source": [
    "# r: porque lo vamos a leer\n",
    "# t: porque es modo texto"
   ]
  },
  {
   "cell_type": "code",
   "execution_count": 4,
   "metadata": {},
   "outputs": [],
   "source": [
    "#para acceder a los datos del fichero tenemos que:"
   ]
  },
  {
   "cell_type": "code",
   "execution_count": 5,
   "metadata": {},
   "outputs": [],
   "source": [
    "datos_fichero = fichero.read()"
   ]
  },
  {
   "cell_type": "code",
   "execution_count": 6,
   "metadata": {},
   "outputs": [
    {
     "name": "stdout",
     "output_type": "stream",
     "text": [
      "Esto es un fichero de ejemplo.\n",
      "Este ejemplo contiene 2 líneas de texto\n"
     ]
    }
   ],
   "source": [
    "print(datos_fichero)"
   ]
  },
  {
   "cell_type": "code",
   "execution_count": null,
   "metadata": {},
   "outputs": [],
   "source": []
  },
  {
   "cell_type": "markdown",
   "metadata": {},
   "source": [
    "### Grabar un fichero de texto"
   ]
  },
  {
   "cell_type": "code",
   "execution_count": 13,
   "metadata": {},
   "outputs": [],
   "source": [
    "fichero2 = open(\"fichero_generado.txt\",\"wt\") #w de write (escritura)"
   ]
  },
  {
   "cell_type": "code",
   "execution_count": 14,
   "metadata": {},
   "outputs": [],
   "source": [
    "texto_del_fichero = \"Hola, esta es la linea de texto que vamos a grabar en el fichero de texto\""
   ]
  },
  {
   "cell_type": "code",
   "execution_count": 15,
   "metadata": {},
   "outputs": [
    {
     "data": {
      "text/plain": [
       "73"
      ]
     },
     "execution_count": 15,
     "metadata": {},
     "output_type": "execute_result"
    }
   ],
   "source": [
    "fichero2.write(texto_del_fichero)"
   ]
  },
  {
   "cell_type": "code",
   "execution_count": 16,
   "metadata": {},
   "outputs": [],
   "source": [
    "fichero2.close()"
   ]
  },
  {
   "cell_type": "code",
   "execution_count": 18,
   "metadata": {},
   "outputs": [],
   "source": [
    "#si accedemos a nuestro directorio encontraremos un fichero *.txt con la linea de texto escrita anteriormente"
   ]
  },
  {
   "cell_type": "code",
   "execution_count": null,
   "metadata": {},
   "outputs": [],
   "source": []
  },
  {
   "cell_type": "markdown",
   "metadata": {},
   "source": [
    "### Incluir datos en un fichero de texto"
   ]
  },
  {
   "cell_type": "code",
   "execution_count": 19,
   "metadata": {},
   "outputs": [],
   "source": [
    "#Vamos a incluir más texto al primer fichero de texto del ejemplo."
   ]
  },
  {
   "cell_type": "code",
   "execution_count": 20,
   "metadata": {},
   "outputs": [],
   "source": [
    "fichero = open(\"fichero_texto_ejemplo.txt\",\"at\") # a: append (añadir)"
   ]
  },
  {
   "cell_type": "code",
   "execution_count": 23,
   "metadata": {},
   "outputs": [],
   "source": [
    "cadena_añadir = \"\\nEsta es la tercera línea de texto\" #Añadimos \"\\n\" para q comience a escribir en la siguiente línea"
   ]
  },
  {
   "cell_type": "code",
   "execution_count": 24,
   "metadata": {},
   "outputs": [
    {
     "data": {
      "text/plain": [
       "34"
      ]
     },
     "execution_count": 24,
     "metadata": {},
     "output_type": "execute_result"
    }
   ],
   "source": [
    "fichero.write(cadena_añadir)"
   ]
  },
  {
   "cell_type": "code",
   "execution_count": null,
   "metadata": {},
   "outputs": [],
   "source": []
  },
  {
   "cell_type": "markdown",
   "metadata": {},
   "source": [
    "### Borrar un fichero de texto"
   ]
  },
  {
   "cell_type": "code",
   "execution_count": 25,
   "metadata": {},
   "outputs": [],
   "source": [
    "import os "
   ]
  },
  {
   "cell_type": "code",
   "execution_count": 26,
   "metadata": {},
   "outputs": [],
   "source": [
    "os.remove(\"borrar_fichero.txt\")"
   ]
  },
  {
   "cell_type": "code",
   "execution_count": 27,
   "metadata": {},
   "outputs": [],
   "source": [
    "#Mediante el método de esa librería borramos el fichero de nuestro directorio"
   ]
  },
  {
   "cell_type": "code",
   "execution_count": null,
   "metadata": {},
   "outputs": [],
   "source": []
  },
  {
   "cell_type": "markdown",
   "metadata": {},
   "source": [
    "### Ejercicio\n",
    "\n",
    "Crear el modulo \"moduloficheros.py\n",
    "\n",
    "* Crear una clase \"Fichero\"\n",
    "* Crear la función \"leer_fichero\" para leer un fichero de texto\n",
    "* Crear la función \"grabar_fichero\" para crear un fichero de texto\n",
    "* Crear la función \"incluir_fichero\" para incluir datos al final de un fichero de texto\n",
    "\n",
    "Crear un programa \"programa1.py\"\n",
    "* Crear el objeto \"fichero\" de la clase \"Fichero\" del modulo \"moduloficheros.py\"\n",
    "* Utilizar el método \"grabar_fichero\" para crear un nuevo fichero de texto\n",
    "* Utilizar el método \"incluir_fichero\" para incorporar más datos al final del fichero\n",
    "* Utilizar el método \"leer_fichero\" para ver todo el contenido del fichero\n",
    "\n"
   ]
  },
  {
   "cell_type": "code",
   "execution_count": 31,
   "metadata": {},
   "outputs": [],
   "source": [
    "## Mi solución:\n",
    "class Fichero:\n",
    "    def leer_fichero(Self,nombre_fichero):\n",
    "        Self.nombre_fichero = open(Self.nombre_fichero + \".txt\",\"rt\")\n",
    "    \n",
    "    def grabar_fichero(Self,nombre_fichero):\n",
    "        Self.nombre_fichero = open(Self.nombre_fichero + \".txt\",\"wt\")\n",
    "        Self.nombrefichero.write(Self.nombre_fichero)\n",
    "    \n",
    "    def incluir_fichero(Self,nombre_fichero,texto_añadir):\n",
    "        Self.nombre_fichero = open(Self.nombre_fichero + \".txt\",\"at\")\n",
    "        Self.nombrefichero.write(Self.nombre_fichero)\n"
   ]
  },
  {
   "cell_type": "code",
   "execution_count": 64,
   "metadata": {},
   "outputs": [],
   "source": [
    "#Correcición\n",
    "\n",
    "class Fichero:\n",
    "    def __init__(self,nombre):\n",
    "        self.nombre = nombre\n",
    "        \n",
    "    def grabar_fichero(self,texto):\n",
    "        fichero = open(self.nombre,\"wt\")\n",
    "        fichero.write(texto)\n",
    "        fichero.close()\n",
    "    \n",
    "    def incluir_fichero(self,texto):\n",
    "        fichero = open(self.nombre,\"at\")\n",
    "        fichero.write(texto)\n",
    "        fichero.close()\n",
    "    \n",
    "    def leer_fichero(self):\n",
    "        fichero = open(self.nombre,\"rt\")\n",
    "        texto = fichero.read()\n",
    "        return texto"
   ]
  },
  {
   "cell_type": "code",
   "execution_count": 65,
   "metadata": {},
   "outputs": [],
   "source": [
    "nombre_fichero = \"fichero1.txt\""
   ]
  },
  {
   "cell_type": "code",
   "execution_count": 66,
   "metadata": {},
   "outputs": [],
   "source": [
    "texto = \"Esta es la primera fila del fichero.\\n Esta será la segunda fila.\""
   ]
  },
  {
   "cell_type": "code",
   "execution_count": 67,
   "metadata": {},
   "outputs": [],
   "source": [
    "fichero = Fichero(nombre_fichero)"
   ]
  },
  {
   "cell_type": "code",
   "execution_count": 68,
   "metadata": {},
   "outputs": [],
   "source": [
    "fichero.grabar_fichero(texto)"
   ]
  },
  {
   "cell_type": "code",
   "execution_count": 69,
   "metadata": {},
   "outputs": [],
   "source": [
    "texto2 = \"\\nEste es un texto incluido en la tercera fila\""
   ]
  },
  {
   "cell_type": "code",
   "execution_count": 70,
   "metadata": {},
   "outputs": [],
   "source": [
    "fichero.incluir_fichero(texto2)"
   ]
  },
  {
   "cell_type": "code",
   "execution_count": 71,
   "metadata": {},
   "outputs": [
    {
     "data": {
      "text/plain": [
       "'Esta es la primera fila del fichero.\\n Esta será la segunda fila.\\nEste es un texto incluido en la tercera fila'"
      ]
     },
     "execution_count": 71,
     "metadata": {},
     "output_type": "execute_result"
    }
   ],
   "source": [
    "fichero.leer_fichero()"
   ]
  },
  {
   "cell_type": "code",
   "execution_count": null,
   "metadata": {},
   "outputs": [],
   "source": []
  }
 ],
 "metadata": {
  "kernelspec": {
   "display_name": "Python 3",
   "language": "python",
   "name": "python3"
  },
  "language_info": {
   "codemirror_mode": {
    "name": "ipython",
    "version": 3
   },
   "file_extension": ".py",
   "mimetype": "text/x-python",
   "name": "python",
   "nbconvert_exporter": "python",
   "pygments_lexer": "ipython3",
   "version": "3.8.5"
  }
 },
 "nbformat": 4,
 "nbformat_minor": 4
}
